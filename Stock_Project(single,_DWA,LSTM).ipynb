{
  "nbformat": 4,
  "nbformat_minor": 0,
  "metadata": {
    "colab": {
      "name": "Stock_Project(single, DWA,LSTM).ipynb",
      "provenance": [],
      "collapsed_sections": [],
      "include_colab_link": true
    },
    "kernelspec": {
      "name": "python3",
      "display_name": "Python 3"
    },
    "language_info": {
      "name": "python"
    }
  },
  "cells": [
    {
      "cell_type": "markdown",
      "metadata": {
        "id": "view-in-github",
        "colab_type": "text"
      },
      "source": [
        "<a href=\"https://colab.research.google.com/github/D0753192/Colab/blob/main/Stock_Project(single%2C_DWA%2CLSTM).ipynb\" target=\"_parent\"><img src=\"https://colab.research.google.com/assets/colab-badge.svg\" alt=\"Open In Colab\"/></a>"
      ]
    },
    {
      "cell_type": "code",
      "metadata": {
        "id": "eorVaL7fYU1x"
      },
      "source": [
        "import numpy as np\n",
        "import pandas as pd\n",
        "import matplotlib.pyplot as plt\n",
        "from sklearn.preprocessing import MinMaxScaler\n",
        "from keras.models import Model, optimizer_v1\n",
        "from keras import Sequential,optimizers\n",
        "from keras.layers import Dense, LSTM, Input, concatenate, Flatten,Dropout, Embedding, Concatenate\n",
        "from keras.utils.vis_utils import plot_model\n",
        "from keras import metrics\n",
        "import math\n",
        "from keras import callbacks\n",
        "import datetime, os"
      ],
      "execution_count": null,
      "outputs": []
    },
    {
      "cell_type": "code",
      "metadata": {
        "colab": {
          "base_uri": "https://localhost:8080/"
        },
        "id": "gghfBSJ3T3rw",
        "outputId": "32383354-98e9-474d-eea5-e21056ddb9cc"
      },
      "source": [
        "# Colab 進行matplotlib繪圖時顯示繁體中文\n",
        "# 下載台北思源黑體並命名taipei_sans_tc_beta.ttf，移至指定路徑\n",
        "!wget -O taipei_sans_tc_beta.ttf https://drive.google.com/uc?id=1eGAsTN1HBpJAkeVM57_C7ccp7hbgSz3_&export=download\n",
        "!mv taipei_sans_tc_beta.ttf /usr/local/lib/python3.7/dist-packages/matplotlib//mpl-data/fonts/ttf\n",
        "\n",
        "from matplotlib.font_manager import FontProperties\n",
        "\n",
        "# 自定義字體變數\n",
        "myfont = FontProperties(fname=r'/usr/local/lib/python3.7/dist-packages/matplotlib/mpl-data/fonts/ttf/taipei_sans_tc_beta.ttf')\n",
        "\n",
        "# !!!!後續在相關函式中增加fontproperties=myfont屬性即可!!!!"
      ],
      "execution_count": null,
      "outputs": [
        {
          "output_type": "stream",
          "name": "stdout",
          "text": [
            "--2021-12-08 07:36:17--  https://drive.google.com/uc?id=1eGAsTN1HBpJAkeVM57_C7ccp7hbgSz3_\n",
            "Resolving drive.google.com (drive.google.com)... 142.250.73.206, 2607:f8b0:4004:829::200e\n",
            "Connecting to drive.google.com (drive.google.com)|142.250.73.206|:443... connected.\n",
            "HTTP request sent, awaiting response... 302 Moved Temporarily\n",
            "Location: https://doc-0k-9o-docs.googleusercontent.com/docs/securesc/ha0ro937gcuc7l7deffksulhg5h7mbp1/n9gfs0vqpnl9d28v3cun9hi9bvk2hi60/1638948975000/02847987870453524430/*/1eGAsTN1HBpJAkeVM57_C7ccp7hbgSz3_ [following]\n",
            "Warning: wildcards not supported in HTTP.\n",
            "--2021-12-08 07:36:23--  https://doc-0k-9o-docs.googleusercontent.com/docs/securesc/ha0ro937gcuc7l7deffksulhg5h7mbp1/n9gfs0vqpnl9d28v3cun9hi9bvk2hi60/1638948975000/02847987870453524430/*/1eGAsTN1HBpJAkeVM57_C7ccp7hbgSz3_\n",
            "Resolving doc-0k-9o-docs.googleusercontent.com (doc-0k-9o-docs.googleusercontent.com)... 142.251.33.193, 2607:f8b0:4004:837::2001\n",
            "Connecting to doc-0k-9o-docs.googleusercontent.com (doc-0k-9o-docs.googleusercontent.com)|142.251.33.193|:443... connected.\n",
            "HTTP request sent, awaiting response... 200 OK\n",
            "Length: 20659344 (20M) [application/x-font-ttf]\n",
            "Saving to: ‘taipei_sans_tc_beta.ttf’\n",
            "\n",
            "taipei_sans_tc_beta 100%[===================>]  19.70M  --.-KB/s    in 0.1s    \n",
            "\n",
            "2021-12-08 07:36:24 (139 MB/s) - ‘taipei_sans_tc_beta.ttf’ saved [20659344/20659344]\n",
            "\n"
          ]
        }
      ]
    },
    {
      "cell_type": "code",
      "metadata": {
        "id": "BHIGeAix1Qk6"
      },
      "source": [
        "def ZeroOneScaler(origin_data,data):\n",
        "  return (origin_data - data.min()) / (data.max() - data.min())\n",
        "def ZeroOneDeScaler(scale_data,data):\n",
        "  return scale_data * (data.max() - data.min()) + data.min()"
      ],
      "execution_count": null,
      "outputs": []
    },
    {
      "cell_type": "code",
      "metadata": {
        "id": "skTzUzfw5ixy"
      },
      "source": [
        "stock_symbol = '23033'\n",
        "time_step = 60\n",
        "close_weight = 1.0\n",
        "highest_weight = 1.0\n",
        "lowest_weight = 1.0\n",
        "volume_weight = 1.0\n",
        "training_set_percent = 0.8\n",
        "testing_set_percent = 0.2"
      ],
      "execution_count": null,
      "outputs": []
    },
    {
      "cell_type": "code",
      "metadata": {
        "id": "XBWJy15xhRnq"
      },
      "source": [
        "logdir = os.path.join(\"logs\", datetime.datetime.now().strftime(\"%Y%m%d-%H%M%S\"))\n",
        "tensorboard_callback = callbacks.TensorBoard(logdir, histogram_freq=1)"
      ],
      "execution_count": null,
      "outputs": []
    },
    {
      "cell_type": "code",
      "metadata": {
        "id": "6q5DWlkwrZrK"
      },
      "source": [
        "#載入股票資訊\n",
        "df = pd.read_csv(stock_symbol+'.csv')"
      ],
      "execution_count": null,
      "outputs": []
    },
    {
      "cell_type": "code",
      "metadata": {
        "colab": {
          "base_uri": "https://localhost:8080/",
          "height": 424
        },
        "id": "quwUj6dhLeIJ",
        "outputId": "864d72a1-9c15-495b-f718-7ba3a2c0b8b8"
      },
      "source": [
        "df"
      ],
      "execution_count": null,
      "outputs": [
        {
          "output_type": "execute_result",
          "data": {
            "text/html": [
              "<div>\n",
              "<style scoped>\n",
              "    .dataframe tbody tr th:only-of-type {\n",
              "        vertical-align: middle;\n",
              "    }\n",
              "\n",
              "    .dataframe tbody tr th {\n",
              "        vertical-align: top;\n",
              "    }\n",
              "\n",
              "    .dataframe thead th {\n",
              "        text-align: right;\n",
              "    }\n",
              "</style>\n",
              "<table border=\"1\" class=\"dataframe\">\n",
              "  <thead>\n",
              "    <tr style=\"text-align: right;\">\n",
              "      <th></th>\n",
              "      <th>Date</th>\n",
              "      <th>Trade Volume</th>\n",
              "      <th>Trade Value</th>\n",
              "      <th>Opening Price</th>\n",
              "      <th>Highest Price</th>\n",
              "      <th>Lowest Price</th>\n",
              "      <th>Closing Price</th>\n",
              "      <th>Change</th>\n",
              "      <th>Transaction</th>\n",
              "    </tr>\n",
              "  </thead>\n",
              "  <tbody>\n",
              "    <tr>\n",
              "      <th>0</th>\n",
              "      <td>100104</td>\n",
              "      <td>30268635.0</td>\n",
              "      <td>5.150876e+08</td>\n",
              "      <td>17.2</td>\n",
              "      <td>17.2</td>\n",
              "      <td>16.8</td>\n",
              "      <td>17</td>\n",
              "      <td>-0.2</td>\n",
              "      <td>5747.0</td>\n",
              "    </tr>\n",
              "    <tr>\n",
              "      <th>1</th>\n",
              "      <td>100105</td>\n",
              "      <td>65133854.0</td>\n",
              "      <td>1.119637e+09</td>\n",
              "      <td>17.2</td>\n",
              "      <td>17.35</td>\n",
              "      <td>17.05</td>\n",
              "      <td>17.2</td>\n",
              "      <td>0.2</td>\n",
              "      <td>10198.0</td>\n",
              "    </tr>\n",
              "    <tr>\n",
              "      <th>2</th>\n",
              "      <td>100106</td>\n",
              "      <td>145046936.0</td>\n",
              "      <td>2.591783e+09</td>\n",
              "      <td>17.2</td>\n",
              "      <td>18.4</td>\n",
              "      <td>17.15</td>\n",
              "      <td>18.4</td>\n",
              "      <td>1.2</td>\n",
              "      <td>24535.0</td>\n",
              "    </tr>\n",
              "    <tr>\n",
              "      <th>3</th>\n",
              "      <td>100107</td>\n",
              "      <td>137964451.0</td>\n",
              "      <td>2.586912e+09</td>\n",
              "      <td>18.6</td>\n",
              "      <td>19.1</td>\n",
              "      <td>18.4</td>\n",
              "      <td>18.4</td>\n",
              "      <td>0.0</td>\n",
              "      <td>24566.0</td>\n",
              "    </tr>\n",
              "    <tr>\n",
              "      <th>4</th>\n",
              "      <td>100108</td>\n",
              "      <td>58947013.0</td>\n",
              "      <td>1.068333e+09</td>\n",
              "      <td>18.4</td>\n",
              "      <td>18.45</td>\n",
              "      <td>17.85</td>\n",
              "      <td>18.2</td>\n",
              "      <td>-0.2</td>\n",
              "      <td>11053.0</td>\n",
              "    </tr>\n",
              "    <tr>\n",
              "      <th>...</th>\n",
              "      <td>...</td>\n",
              "      <td>...</td>\n",
              "      <td>...</td>\n",
              "      <td>...</td>\n",
              "      <td>...</td>\n",
              "      <td>...</td>\n",
              "      <td>...</td>\n",
              "      <td>...</td>\n",
              "      <td>...</td>\n",
              "    </tr>\n",
              "    <tr>\n",
              "      <th>2843</th>\n",
              "      <td>210726</td>\n",
              "      <td>137792338.0</td>\n",
              "      <td>7.429437e+09</td>\n",
              "      <td>54</td>\n",
              "      <td>54.4</td>\n",
              "      <td>53.6</td>\n",
              "      <td>53.7</td>\n",
              "      <td>1.0</td>\n",
              "      <td>42572.0</td>\n",
              "    </tr>\n",
              "    <tr>\n",
              "      <th>2844</th>\n",
              "      <td>210727</td>\n",
              "      <td>118561484.0</td>\n",
              "      <td>6.355295e+09</td>\n",
              "      <td>54.2</td>\n",
              "      <td>54.3</td>\n",
              "      <td>53.1</td>\n",
              "      <td>53.1</td>\n",
              "      <td>-0.6</td>\n",
              "      <td>35962.0</td>\n",
              "    </tr>\n",
              "    <tr>\n",
              "      <th>2845</th>\n",
              "      <td>210728</td>\n",
              "      <td>199999316.0</td>\n",
              "      <td>1.026106e+10</td>\n",
              "      <td>52.4</td>\n",
              "      <td>52.6</td>\n",
              "      <td>50.5</td>\n",
              "      <td>51.8</td>\n",
              "      <td>-1.3</td>\n",
              "      <td>68871.0</td>\n",
              "    </tr>\n",
              "    <tr>\n",
              "      <th>2846</th>\n",
              "      <td>210729</td>\n",
              "      <td>437075578.0</td>\n",
              "      <td>2.376093e+10</td>\n",
              "      <td>53.9</td>\n",
              "      <td>55</td>\n",
              "      <td>53.3</td>\n",
              "      <td>54.6</td>\n",
              "      <td>2.8</td>\n",
              "      <td>132593.0</td>\n",
              "    </tr>\n",
              "    <tr>\n",
              "      <th>2847</th>\n",
              "      <td>210730</td>\n",
              "      <td>690359467.0</td>\n",
              "      <td>3.982790e+10</td>\n",
              "      <td>55.8</td>\n",
              "      <td>59.9</td>\n",
              "      <td>55.8</td>\n",
              "      <td>57.8</td>\n",
              "      <td>3.2</td>\n",
              "      <td>241096.0</td>\n",
              "    </tr>\n",
              "  </tbody>\n",
              "</table>\n",
              "<p>2848 rows × 9 columns</p>\n",
              "</div>"
            ],
            "text/plain": [
              "        Date  Trade Volume   Trade Value  ... Closing Price Change Transaction\n",
              "0     100104    30268635.0  5.150876e+08  ...            17   -0.2      5747.0\n",
              "1     100105    65133854.0  1.119637e+09  ...          17.2    0.2     10198.0\n",
              "2     100106   145046936.0  2.591783e+09  ...          18.4    1.2     24535.0\n",
              "3     100107   137964451.0  2.586912e+09  ...          18.4    0.0     24566.0\n",
              "4     100108    58947013.0  1.068333e+09  ...          18.2   -0.2     11053.0\n",
              "...      ...           ...           ...  ...           ...    ...         ...\n",
              "2843  210726   137792338.0  7.429437e+09  ...          53.7    1.0     42572.0\n",
              "2844  210727   118561484.0  6.355295e+09  ...          53.1   -0.6     35962.0\n",
              "2845  210728   199999316.0  1.026106e+10  ...          51.8   -1.3     68871.0\n",
              "2846  210729   437075578.0  2.376093e+10  ...          54.6    2.8    132593.0\n",
              "2847  210730   690359467.0  3.982790e+10  ...          57.8    3.2    241096.0\n",
              "\n",
              "[2848 rows x 9 columns]"
            ]
          },
          "metadata": {},
          "execution_count": 58
        }
      ]
    },
    {
      "cell_type": "code",
      "source": [
        "df_sample = df[6:9].copy()"
      ],
      "metadata": {
        "id": "onaYx3o74cS_"
      },
      "execution_count": null,
      "outputs": []
    },
    {
      "cell_type": "code",
      "source": [
        "df_sample"
      ],
      "metadata": {
        "colab": {
          "base_uri": "https://localhost:8080/",
          "height": 143
        },
        "id": "0sZUNxWw_NQp",
        "outputId": "087b28da-688e-4284-a9d6-71f36959b436"
      },
      "execution_count": null,
      "outputs": [
        {
          "output_type": "execute_result",
          "data": {
            "text/html": [
              "<div>\n",
              "<style scoped>\n",
              "    .dataframe tbody tr th:only-of-type {\n",
              "        vertical-align: middle;\n",
              "    }\n",
              "\n",
              "    .dataframe tbody tr th {\n",
              "        vertical-align: top;\n",
              "    }\n",
              "\n",
              "    .dataframe thead th {\n",
              "        text-align: right;\n",
              "    }\n",
              "</style>\n",
              "<table border=\"1\" class=\"dataframe\">\n",
              "  <thead>\n",
              "    <tr style=\"text-align: right;\">\n",
              "      <th></th>\n",
              "      <th>Date</th>\n",
              "      <th>Trade Volume</th>\n",
              "      <th>Trade Value</th>\n",
              "      <th>Opening Price</th>\n",
              "      <th>Highest Price</th>\n",
              "      <th>Lowest Price</th>\n",
              "      <th>Closing Price</th>\n",
              "      <th>Change</th>\n",
              "      <th>Transaction</th>\n",
              "    </tr>\n",
              "  </thead>\n",
              "  <tbody>\n",
              "    <tr>\n",
              "      <th>6</th>\n",
              "      <td>100112</td>\n",
              "      <td>54024017.0</td>\n",
              "      <td>993965162.0</td>\n",
              "      <td>18.60</td>\n",
              "      <td>18.85</td>\n",
              "      <td>18.15</td>\n",
              "      <td>18.35</td>\n",
              "      <td>-0.25</td>\n",
              "      <td>11941.0</td>\n",
              "    </tr>\n",
              "    <tr>\n",
              "      <th>7</th>\n",
              "      <td>100113</td>\n",
              "      <td>NaN</td>\n",
              "      <td>NaN</td>\n",
              "      <td>NaN</td>\n",
              "      <td>NaN</td>\n",
              "      <td>NaN</td>\n",
              "      <td>NaN</td>\n",
              "      <td>NaN</td>\n",
              "      <td>NaN</td>\n",
              "    </tr>\n",
              "    <tr>\n",
              "      <th>8</th>\n",
              "      <td>100114</td>\n",
              "      <td>35850344.0</td>\n",
              "      <td>632602540.0</td>\n",
              "      <td>17.85</td>\n",
              "      <td>18.05</td>\n",
              "      <td>17.85</td>\n",
              "      <td>17.95</td>\n",
              "      <td>0.10</td>\n",
              "      <td>6691.0</td>\n",
              "    </tr>\n",
              "  </tbody>\n",
              "</table>\n",
              "</div>"
            ],
            "text/plain": [
              "     Date  Trade Volume  Trade Value  ...  Closing Price  Change  Transaction\n",
              "6  100112    54024017.0  993965162.0  ...          18.35   -0.25      11941.0\n",
              "7  100113           NaN          NaN  ...            NaN     NaN          NaN\n",
              "8  100114    35850344.0  632602540.0  ...          17.95    0.10       6691.0\n",
              "\n",
              "[3 rows x 9 columns]"
            ]
          },
          "metadata": {},
          "execution_count": 91
        }
      ]
    },
    {
      "cell_type": "code",
      "source": [
        "df_sample.dropna(subset=[\"Closing Price\"],inplace=True)"
      ],
      "metadata": {
        "id": "Hpwc4grz_NTN"
      },
      "execution_count": null,
      "outputs": []
    },
    {
      "cell_type": "code",
      "source": [
        "df_sample['Closing Price'] = ZeroOneScaler(df_sample['Closing Price'],train_set_close)\n",
        "df_sample['Opening Price'] = ZeroOneScaler(df_sample['Opening Price'],train_set_close)\n",
        "df_sample['Highest Price'] = ZeroOneScaler(df_sample['Highest Price'],train_set_highest)\n",
        "df_sample['Lowest Price'] = ZeroOneScaler(df_sample['Lowest Price'],train_set_lowest)"
      ],
      "metadata": {
        "id": "b93btDEA_NVt"
      },
      "execution_count": null,
      "outputs": []
    },
    {
      "cell_type": "code",
      "source": [
        "df_sample"
      ],
      "metadata": {
        "colab": {
          "base_uri": "https://localhost:8080/",
          "height": 112
        },
        "id": "Jf5OojBlAXBj",
        "outputId": "6aca57ac-2607-4680-970b-a5d802db3b12"
      },
      "execution_count": null,
      "outputs": [
        {
          "output_type": "execute_result",
          "data": {
            "text/html": [
              "<div>\n",
              "<style scoped>\n",
              "    .dataframe tbody tr th:only-of-type {\n",
              "        vertical-align: middle;\n",
              "    }\n",
              "\n",
              "    .dataframe tbody tr th {\n",
              "        vertical-align: top;\n",
              "    }\n",
              "\n",
              "    .dataframe thead th {\n",
              "        text-align: right;\n",
              "    }\n",
              "</style>\n",
              "<table border=\"1\" class=\"dataframe\">\n",
              "  <thead>\n",
              "    <tr style=\"text-align: right;\">\n",
              "      <th></th>\n",
              "      <th>Date</th>\n",
              "      <th>Trade Volume</th>\n",
              "      <th>Trade Value</th>\n",
              "      <th>Opening Price</th>\n",
              "      <th>Highest Price</th>\n",
              "      <th>Lowest Price</th>\n",
              "      <th>Closing Price</th>\n",
              "      <th>Change</th>\n",
              "      <th>Transaction</th>\n",
              "    </tr>\n",
              "  </thead>\n",
              "  <tbody>\n",
              "    <tr>\n",
              "      <th>6</th>\n",
              "      <td>100112</td>\n",
              "      <td>54024017.0</td>\n",
              "      <td>993965162.0</td>\n",
              "      <td>0.994186</td>\n",
              "      <td>0.971910</td>\n",
              "      <td>0.970519</td>\n",
              "      <td>0.965116</td>\n",
              "      <td>-0.25</td>\n",
              "      <td>11941.0</td>\n",
              "    </tr>\n",
              "    <tr>\n",
              "      <th>8</th>\n",
              "      <td>100114</td>\n",
              "      <td>35850344.0</td>\n",
              "      <td>632602540.0</td>\n",
              "      <td>0.906977</td>\n",
              "      <td>0.882022</td>\n",
              "      <td>0.935142</td>\n",
              "      <td>0.918605</td>\n",
              "      <td>0.10</td>\n",
              "      <td>6691.0</td>\n",
              "    </tr>\n",
              "  </tbody>\n",
              "</table>\n",
              "</div>"
            ],
            "text/plain": [
              "     Date  Trade Volume  Trade Value  ...  Closing Price  Change  Transaction\n",
              "6  100112    54024017.0  993965162.0  ...       0.965116   -0.25      11941.0\n",
              "8  100114    35850344.0  632602540.0  ...       0.918605    0.10       6691.0\n",
              "\n",
              "[2 rows x 9 columns]"
            ]
          },
          "metadata": {},
          "execution_count": 94
        }
      ]
    },
    {
      "cell_type": "code",
      "source": [
        ""
      ],
      "metadata": {
        "id": "nRry1a_uCL5x"
      },
      "execution_count": null,
      "outputs": []
    },
    {
      "cell_type": "code",
      "source": [
        "sample_zero_one"
      ],
      "metadata": {
        "colab": {
          "base_uri": "https://localhost:8080/"
        },
        "id": "FRPZ4Nd2A59d",
        "outputId": "94fcb7f9-1468-4d54-89b0-4cfd7103c92c"
      },
      "execution_count": null,
      "outputs": [
        {
          "output_type": "execute_result",
          "data": {
            "text/plain": [
              "6    0.965116\n",
              "8    0.918605\n",
              "Name: Closing Price, dtype: float64"
            ]
          },
          "metadata": {},
          "execution_count": 72
        }
      ]
    },
    {
      "cell_type": "code",
      "source": [
        ""
      ],
      "metadata": {
        "id": "-l3-RjMuA6DZ"
      },
      "execution_count": null,
      "outputs": []
    },
    {
      "cell_type": "code",
      "metadata": {
        "id": "2nRIeZ1WMQxg"
      },
      "source": [
        "#檢查型態\n",
        "#df.dtypes"
      ],
      "execution_count": null,
      "outputs": []
    },
    {
      "cell_type": "code",
      "metadata": {
        "id": "xJ-EQ7fyWY0F"
      },
      "source": [
        "#檢查有無去掉雜值\n",
        "#df.iloc[2093]"
      ],
      "execution_count": null,
      "outputs": []
    },
    {
      "cell_type": "code",
      "metadata": {
        "id": "ExQPNlu6DCwa"
      },
      "source": [
        "#取得2020年範圍\n",
        "#df = df[2465:2710]"
      ],
      "execution_count": null,
      "outputs": []
    },
    {
      "cell_type": "code",
      "metadata": {
        "id": "vTkLenU6UGuu"
      },
      "source": [
        "#將資料型態轉為float(number)\n",
        "def changeDataType(df):\n",
        "  df['Closing Price'] = pd.to_numeric(df['Closing Price'], errors='coerce')\n",
        "  df['Highest Price'] = pd.to_numeric(df['Highest Price'], errors='coerce')\n",
        "  df['Lowest Price'] = pd.to_numeric(df['Lowest Price'], errors='coerce')\n",
        "  df['Opening Price'] = pd.to_numeric(df['Opening Price'], errors='coerce')\n",
        "changeDataType(df)"
      ],
      "execution_count": null,
      "outputs": []
    },
    {
      "cell_type": "code",
      "metadata": {
        "id": "zx1-XkJRLjMT"
      },
      "source": [
        "#去掉雜值\n",
        "df.dropna(subset=[\"Closing Price\"],inplace=True)"
      ],
      "execution_count": null,
      "outputs": []
    },
    {
      "cell_type": "code",
      "metadata": {
        "id": "jgKKQ5-5DBrF"
      },
      "source": [
        "data_length = len(df)\n",
        "training_length = math.floor(data_length * training_set_percent)\n",
        "testing_length = data_length - training_length"
      ],
      "execution_count": null,
      "outputs": []
    },
    {
      "cell_type": "code",
      "metadata": {
        "colab": {
          "base_uri": "https://localhost:8080/"
        },
        "id": "ayENBLj3J2l2",
        "outputId": "bbf7d630-24ab-4e58-e79c-8fc1fa96cee3"
      },
      "source": [
        "data_length"
      ],
      "execution_count": null,
      "outputs": [
        {
          "output_type": "execute_result",
          "data": {
            "text/plain": [
              "2847"
            ]
          },
          "metadata": {},
          "execution_count": 14
        }
      ]
    },
    {
      "cell_type": "code",
      "metadata": {
        "colab": {
          "base_uri": "https://localhost:8080/"
        },
        "id": "IB_70dSUJ4KX",
        "outputId": "d48db433-f59d-4271-b746-d59052660dab"
      },
      "source": [
        "training_length"
      ],
      "execution_count": null,
      "outputs": [
        {
          "output_type": "execute_result",
          "data": {
            "text/plain": [
              "2277"
            ]
          },
          "metadata": {},
          "execution_count": 15
        }
      ]
    },
    {
      "cell_type": "code",
      "metadata": {
        "colab": {
          "base_uri": "https://localhost:8080/"
        },
        "id": "PlXrcOhCJ4Pc",
        "outputId": "57f61ab3-af67-4a64-f420-86264d05590d"
      },
      "source": [
        "testing_length"
      ],
      "execution_count": null,
      "outputs": [
        {
          "output_type": "execute_result",
          "data": {
            "text/plain": [
              "570"
            ]
          },
          "metadata": {},
          "execution_count": 16
        }
      ]
    },
    {
      "cell_type": "code",
      "metadata": {
        "id": "Rw2pYKa8cheL"
      },
      "source": [
        "def getStockData(df):\n",
        "  df_close = df.iloc[:,6:7] #收盤價\n",
        "  df_highest = df.iloc[:,4:5] #最高價\n",
        "  df_lowest = df.iloc[:,5:6] #最低價\n",
        "  #df_volume = df.iloc[:,1:2] #交易量\n",
        "  return df, df_close, df_highest, df_lowest\n",
        "df, df_close, df_highest, df_lowest = getStockData(df)"
      ],
      "execution_count": null,
      "outputs": []
    },
    {
      "cell_type": "code",
      "metadata": {
        "id": "1nw3L-cGmAuV",
        "colab": {
          "base_uri": "https://localhost:8080/",
          "height": 53
        },
        "outputId": "494e4743-eb39-4e12-c657-a14350b45df9"
      },
      "source": [
        "#資料分堆(近10年)\n",
        "def dataSegmentation(df):\n",
        "  #前2200筆用作訓練,2200筆以後用作測試\n",
        "  train_set_close = df_close[:training_length].values\n",
        "  test_set_close = df_close[training_length:].values\n",
        "  train_set_highest = df_highest[:training_length].values\n",
        "  test_set_highest = df_highest[training_length:].values\n",
        "  train_set_lowest = df_lowest[:training_length].values\n",
        "  test_set_lowest = df_lowest[training_length:].values\n",
        "  #train_set_volume = df_volume[:training_length].values\n",
        "  #test_set_volume = df_volume[training_length:].values\n",
        "  return train_set_close, test_set_close, train_set_highest, test_set_highest, train_set_lowest, test_set_lowest\n",
        "train_set_close, test_set_close, train_set_highest, test_set_highest, train_set_lowest, test_set_lowest = dataSegmentation(df)\n",
        "'''return train_set_close, test_set_close, train_set_highest, test_set_highest, train_set_lowest, test_set_lowest, train_set_volume, test_set_volume\n",
        "train_set_close, test_set_close, train_set_highest, test_set_highest, train_set_lowest, test_set_lowest, train_set_volume, test_set_volume = dataSegmentation(df)'''"
      ],
      "execution_count": null,
      "outputs": [
        {
          "output_type": "execute_result",
          "data": {
            "application/vnd.google.colaboratory.intrinsic+json": {
              "type": "string"
            },
            "text/plain": [
              "'return train_set_close, test_set_close, train_set_highest, test_set_highest, train_set_lowest, test_set_lowest, train_set_volume, test_set_volume\\ntrain_set_close, test_set_close, train_set_highest, test_set_highest, train_set_lowest, test_set_lowest, train_set_volume, test_set_volume = dataSegmentation(df)'"
            ]
          },
          "metadata": {},
          "execution_count": 18
        }
      ]
    },
    {
      "cell_type": "code",
      "metadata": {
        "id": "ML98qnCuu0FI"
      },
      "source": [
        "df_date = pd.to_datetime(df['Date'], format='%y%m%d') #將 Date 轉為 pd 的 datetime 格式"
      ],
      "execution_count": null,
      "outputs": []
    },
    {
      "cell_type": "code",
      "metadata": {
        "id": "yvRv3ah9mask"
      },
      "source": [
        "#df_date"
      ],
      "execution_count": null,
      "outputs": []
    },
    {
      "cell_type": "code",
      "metadata": {
        "id": "PfogcNzrziQl"
      },
      "source": [
        "#df.dtypes"
      ],
      "execution_count": null,
      "outputs": []
    },
    {
      "cell_type": "code",
      "metadata": {
        "colab": {
          "base_uri": "https://localhost:8080/",
          "height": 282
        },
        "id": "fSvh_IiGirMJ",
        "outputId": "85636be0-e275-49f8-9bd1-944c8731d58c"
      },
      "source": [
        "#繪圖(收盤價)\n",
        "plt.plot_date(df_date, df_close,fmt='-')"
      ],
      "execution_count": null,
      "outputs": [
        {
          "output_type": "execute_result",
          "data": {
            "text/plain": [
              "[<matplotlib.lines.Line2D at 0x7f3cf267be10>]"
            ]
          },
          "metadata": {},
          "execution_count": 22
        },
        {
          "output_type": "display_data",
          "data": {
            "image/png": "[encoded data removed]",
            "text/plain": [
              "<Figure size 432x288 with 1 Axes>"
            ]
          },
          "metadata": {
            "needs_background": "light"
          }
        }
      ]
    },
    {
      "cell_type": "code",
      "metadata": {
        "id": "vc5FIMG1CDIf"
      },
      "source": [
        "train_set_scaled_close = ZeroOneScaler(train_set_close,train_set_close)\n",
        "train_set_scaled_highest = ZeroOneScaler(train_set_highest,train_set_highest)\n",
        "train_set_scaled_lowest = ZeroOneScaler(train_set_lowest,train_set_lowest)\n",
        "#train_set_scaled_volume = ZeroOneScaler(train_set_volume,train_set_volume)"
      ],
      "execution_count": null,
      "outputs": []
    },
    {
      "cell_type": "code",
      "metadata": {
        "id": "vO_GB_xoG06J",
        "colab": {
          "base_uri": "https://localhost:8080/",
          "height": 53
        },
        "outputId": "06b038ef-6ed1-4611-f859-edd7fd06d5a1"
      },
      "source": [
        "def dataPreprocessing():\n",
        "  x_train_close = []\n",
        "  y_train_close = []\n",
        "  x_train_highest = []\n",
        "  y_train_highest = []\n",
        "  x_train_lowest = []\n",
        "  y_train_lowest = []\n",
        "  #x_train_volume = []\n",
        "  #y_train_volume = []\n",
        "  for i in range(time_step,training_length): #以前time_step筆資料預測下一筆\n",
        "      x_train_close.append(train_set_scaled_close[i-time_step:i,0])\n",
        "      y_train_close.append(train_set_scaled_close[i,0])\n",
        "      x_train_highest.append(train_set_scaled_highest[i-time_step:i,0])\n",
        "      y_train_highest.append(train_set_scaled_highest[i,0])\n",
        "      x_train_lowest.append(train_set_scaled_lowest[i-time_step:i,0])\n",
        "      y_train_lowest.append(train_set_scaled_lowest[i,0])\n",
        "      #x_train_volume.append(train_set_scaled_volume[i-time_step:i,0])\n",
        "      #y_train_volume.append(train_set_scaled_volume[i,0])\n",
        "  x_train_close = np.array(x_train_close)\n",
        "  y_train_close = np.array(y_train_close)\n",
        "  x_train_highest = np.array(x_train_highest)\n",
        "  y_train_highest = np.array(y_train_highest)\n",
        "  x_train_lowest = np.array(x_train_lowest)\n",
        "  y_train_lowest = np.array(y_train_lowest)\n",
        "  #x_train_volume = np.array(x_train_volume)\n",
        "  #y_train_volume = np.array(y_train_volume)\n",
        "  # 轉換成模型要求的維度\n",
        "  x_train_close = np.reshape(x_train_close,(x_train_close.shape[0],x_train_close.shape[1],1))\n",
        "  x_train_highest = np.reshape(x_train_highest,(x_train_highest.shape[0],x_train_highest.shape[1],1))\n",
        "  x_train_lowest = np.reshape(x_train_lowest,(x_train_lowest.shape[0],x_train_lowest.shape[1],1))\n",
        "  #x_train_volume = np.reshape(x_train_volume,(x_train_volume.shape[0],x_train_volume.shape[1],1))\n",
        "  return x_train_close, y_train_close, x_train_highest, y_train_highest, x_train_lowest, y_train_lowest\n",
        "x_train_close, y_train_close, x_train_highest, y_train_highest, x_train_lowest, y_train_lowest = dataPreprocessing()\n",
        "'''return x_train_close, y_train_close, x_train_highest, y_train_highest, x_train_lowest, y_train_lowest, x_train_volume, y_train_volume\n",
        "x_train_close, y_train_close, x_train_highest, y_train_highest, x_train_lowest, y_train_lowest, x_train_volume, y_train_volume = dataPreprocessing()'''"
      ],
      "execution_count": null,
      "outputs": [
        {
          "output_type": "execute_result",
          "data": {
            "application/vnd.google.colaboratory.intrinsic+json": {
              "type": "string"
            },
            "text/plain": [
              "'return x_train_close, y_train_close, x_train_highest, y_train_highest, x_train_lowest, y_train_lowest, x_train_volume, y_train_volume\\nx_train_close, y_train_close, x_train_highest, y_train_highest, x_train_lowest, y_train_lowest, x_train_volume, y_train_volume = dataPreprocessing()'"
            ]
          },
          "metadata": {},
          "execution_count": 24
        }
      ]
    },
    {
      "cell_type": "code",
      "metadata": {
        "id": "Yi6FCNwjIi-U"
      },
      "source": [
        "def train_lstm():\n",
        "  # LSTM訓練\n",
        "  close_input = Input(shape=((time_step,1)), name='close_input')\n",
        "\n",
        "  lstm1 = LSTM(units = 50,return_sequences=True)(close_input)\n",
        "  drop1 = Dropout(0.2)(lstm1)\n",
        "  lstm2 = LSTM(units = 50,return_sequences=True)(drop1)\n",
        "  drop2 = Dropout(0.2)(lstm2)\n",
        "  lstm3 = LSTM(units = 50,return_sequences=True)(drop2)\n",
        "  drop3 = Dropout(0.2)(lstm3)\n",
        "  lstm4 = LSTM(units = 50,return_sequences=True)(drop3)\n",
        "\n",
        "  x=Flatten()(lstm4) \n",
        "\n",
        "  close = Dense(1,name='close')(x)\n",
        "  highest = Dense(1,name='highest')(x)\n",
        "  lowest = Dense(1,name='lowest')(x)\n",
        "  #volume = Dense(1,name='volume')(x)\n",
        "\n",
        "  reg = Model(inputs=close_input, outputs=[close, highest, lowest])\n",
        "\n",
        "  reg.compile(\n",
        "    optimizer = 'adam',\n",
        "    loss={\n",
        "        \"close\"   : 'mean_squared_error',\n",
        "        \"highest\" : 'mean_squared_error',\n",
        "        \"lowest\"  : 'mean_squared_error'\n",
        "    },\n",
        "    #loss_weights=[close_weight, highest_weight, lowest_weight, volume_weight],\n",
        "    loss_weights=[close_weight, highest_weight, lowest_weight],\n",
        "    metrics = []\n",
        "  )\n",
        "  return reg\n",
        "reg = train_lstm()"
      ],
      "execution_count": null,
      "outputs": []
    },
    {
      "cell_type": "code",
      "metadata": {
        "id": "IB4wFKZia7Nz"
      },
      "source": [
        "epoch_log=[]\n",
        "weighting=[[],[],[]]\n",
        "class MyCallback(callbacks.Callback):\n",
        "  def __init__(self, close_weight, highest_weight, lowest_weight):\n",
        "    self.close_weight = close_weight\n",
        "    self.highest_weight = highest_weight\n",
        "    self.lowest_weight = lowest_weight\n",
        "    #self.volume_weight = volume_weight\n",
        "    self.epoch_loss = [[],[],[]]\n",
        "    \n",
        "  def on_epoch_end(self, epoch, logs=None):\n",
        "    keys = list(logs.keys())\n",
        "    epoch_log.append(logs)\n",
        "    \n",
        "    self.epoch_loss[0].append(logs.get('close_loss'))\n",
        "    self.epoch_loss[1].append(logs.get('highest_loss'))\n",
        "    self.epoch_loss[2].append(logs.get('lowest_loss'))\n",
        "    #self.epoch_loss[3].append(logs.get('volume_loss'))\n",
        "    print(\"End epoch {} of training; got log keys: {}\".format(epoch+1,keys))\n",
        "    print(\"The epoch {} of training: got weight: {}\".format(epoch+1,[self.close_weight,self.highest_weight,self.lowest_weight]))\n",
        "\n",
        "    if epoch < 2:\n",
        "      self.close_weight = close_weight\n",
        "      self.highest_weight = highest_weight\n",
        "      self.lowest_weight = lowest_weight\n",
        "      #self.volume_weight = volume_weight\n",
        "      \n",
        "    else:\n",
        "      #print(\"End epoch {} of training; got 2 closs_loss: {}\".format(epoch,self.epoch_loss[0][epoch-2:epoch]))\n",
        "      #print(\"End epoch {} of training; got 2 highest_log: {}\".format(epoch,self.epoch_loss[1][epoch-2:epoch]))\n",
        "      #print(\"End epoch {} of training; got 2 lowest_log: {}\".format(epoch,self.epoch_loss[2][epoch-2:epoch]))\n",
        "      #print(\"End epoch {} of training; got 2 volume_log: {}\".format(epoch,self.epoch_loss[3][epoch-2:epoch]))\n",
        "      w_close = self.epoch_loss[0][epoch-1] / self.epoch_loss[0][epoch-2]\n",
        "      w_high = self.epoch_loss[1][epoch-1] / self.epoch_loss[1][epoch-2]\n",
        "      w_low = self.epoch_loss[2][epoch-1] / self.epoch_loss[2][epoch-2]\n",
        "      #w_vol = self.epoch_loss[3][epoch-1] / self.epoch_loss[3][epoch-2]\n",
        "      self.close_weight = 3 * np.exp(w_close / 2) / (np.exp(w_close / 2) + np.exp(w_high / 2) + np.exp(w_low / 2))\n",
        "      self.highest_weight = 3 * np.exp(w_high / 2) / (np.exp(w_close / 2) + np.exp(w_high / 2) + np.exp(w_low / 2))\n",
        "      self.lowest_weight = 3 * np.exp(w_low / 2) / (np.exp(w_close / 2) + np.exp(w_high / 2) + np.exp(w_low / 2))\n",
        "      #self.volume_weight = 4 * np.exp(w_vol / 2) / (np.exp(w_close / 2) + np.exp(w_high / 2) + np.exp(w_low / 2) + np.exp(w_vol / 2))\n",
        "\n",
        "    weighting[0].append(self.close_weight)\n",
        "    weighting[1].append(self.highest_weight)\n",
        "    weighting[2].append(self.lowest_weight)\n",
        "    #weighting[3].append(self.volume_weight)"
      ],
      "execution_count": null,
      "outputs": []
    },
    {
      "cell_type": "code",
      "metadata": {
        "colab": {
          "base_uri": "https://localhost:8080/"
        },
        "id": "C-UosevcG1AR",
        "outputId": "adad74e3-0e52-462c-90fe-3f4a6832e418"
      },
      "source": [
        "reg.summary()"
      ],
      "execution_count": null,
      "outputs": [
        {
          "output_type": "stream",
          "name": "stdout",
          "text": [
            "Model: \"model\"\n",
            "__________________________________________________________________________________________________\n",
            " Layer (type)                   Output Shape         Param #     Connected to                     \n",
            "==================================================================================================\n",
            " close_input (InputLayer)       [(None, 60, 1)]      0           []                               \n",
            "                                                                                                  \n",
            " lstm (LSTM)                    (None, 60, 50)       10400       ['close_input[0][0]']            \n",
            "                                                                                                  \n",
            " dropout (Dropout)              (None, 60, 50)       0           ['lstm[0][0]']                   \n",
            "                                                                                                  \n",
            " lstm_1 (LSTM)                  (None, 60, 50)       20200       ['dropout[0][0]']                \n",
            "                                                                                                  \n",
            " dropout_1 (Dropout)            (None, 60, 50)       0           ['lstm_1[0][0]']                 \n",
            "                                                                                                  \n",
            " lstm_2 (LSTM)                  (None, 60, 50)       20200       ['dropout_1[0][0]']              \n",
            "                                                                                                  \n",
            " dropout_2 (Dropout)            (None, 60, 50)       0           ['lstm_2[0][0]']                 \n",
            "                                                                                                  \n",
            " lstm_3 (LSTM)                  (None, 60, 50)       20200       ['dropout_2[0][0]']              \n",
            "                                                                                                  \n",
            " flatten (Flatten)              (None, 3000)         0           ['lstm_3[0][0]']                 \n",
            "                                                                                                  \n",
            " close (Dense)                  (None, 1)            3001        ['flatten[0][0]']                \n",
            "                                                                                                  \n",
            " highest (Dense)                (None, 1)            3001        ['flatten[0][0]']                \n",
            "                                                                                                  \n",
            " lowest (Dense)                 (None, 1)            3001        ['flatten[0][0]']                \n",
            "                                                                                                  \n",
            "==================================================================================================\n",
            "Total params: 80,003\n",
            "Trainable params: 80,003\n",
            "Non-trainable params: 0\n",
            "__________________________________________________________________________________________________\n"
          ]
        }
      ]
    },
    {
      "cell_type": "code",
      "metadata": {
        "colab": {
          "base_uri": "https://localhost:8080/",
          "height": 1000
        },
        "id": "C35Dv5JiqDQF",
        "outputId": "ab97f922-9b87-47a5-9bba-49e962ec7be4"
      },
      "source": [
        "plot_model(reg, to_file='model_plot.png', show_shapes=True, show_layer_names=True)"
      ],
      "execution_count": null,
      "outputs": [
        {
          "output_type": "execute_result",
          "data": {
            "image/png": "[encoded data removed]",
            "text/plain": [
              "<IPython.core.display.Image object>"
            ]
          },
          "metadata": {},
          "execution_count": 28
        }
      ]
    },
    {
      "cell_type": "code",
      "metadata": {
        "colab": {
          "base_uri": "https://localhost:8080/"
        },
        "id": "FoSjxIw1Ynh9",
        "outputId": "3c9b5b21-f696-44f3-83cc-a0b2d23c6949"
      },
      "source": [
        "reg.fit( x_train_close, [y_train_close,y_train_highest,y_train_lowest], epochs=100, batch_size=16,verbose=2, callbacks=[MyCallback(close_weight, highest_weight, lowest_weight), tensorboard_callback])"
      ],
      "execution_count": null,
      "outputs": [
        {
          "output_type": "stream",
          "name": "stdout",
          "text": [
            "Epoch 1/100\n",
            "End epoch 1 of training; got log keys: ['loss', 'close_loss', 'highest_loss', 'lowest_loss']\n",
            "The epoch 1 of training: got weight: [1.0, 1.0, 1.0]\n",
            "139/139 - 22s - loss: 0.0556 - close_loss: 0.0191 - highest_loss: 0.0178 - lowest_loss: 0.0187 - 22s/epoch - 156ms/step\n",
            "Epoch 2/100\n",
            "End epoch 2 of training; got log keys: ['loss', 'close_loss', 'highest_loss', 'lowest_loss']\n",
            "The epoch 2 of training: got weight: [1.0, 1.0, 1.0]\n",
            "139/139 - 13s - loss: 0.0217 - close_loss: 0.0077 - highest_loss: 0.0069 - lowest_loss: 0.0071 - 13s/epoch - 97ms/step\n",
            "Epoch 3/100\n",
            "End epoch 3 of training; got log keys: ['loss', 'close_loss', 'highest_loss', 'lowest_loss']\n",
            "The epoch 3 of training: got weight: [1.0, 1.0, 1.0]\n",
            "139/139 - 13s - loss: 0.0176 - close_loss: 0.0063 - highest_loss: 0.0056 - lowest_loss: 0.0058 - 13s/epoch - 97ms/step\n",
            "Epoch 4/100\n",
            "End epoch 4 of training; got log keys: ['loss', 'close_loss', 'highest_loss', 'lowest_loss']\n",
            "The epoch 4 of training: got weight: [1.0053015703664372, 1.0000477154911338, 0.9946507141424288]\n",
            "139/139 - 13s - loss: 0.0128 - close_loss: 0.0045 - highest_loss: 0.0041 - lowest_loss: 0.0042 - 13s/epoch - 96ms/step\n",
            "Epoch 5/100\n",
            "End epoch 5 of training; got log keys: ['loss', 'close_loss', 'highest_loss', 'lowest_loss']\n",
            "The epoch 5 of training: got weight: [1.0018518771247866, 0.9975729006457374, 1.0005752222294757]\n",
            "139/139 - 13s - loss: 0.0123 - close_loss: 0.0043 - highest_loss: 0.0040 - lowest_loss: 0.0041 - 13s/epoch - 96ms/step\n",
            "Epoch 6/100\n",
            "End epoch 6 of training; got log keys: ['loss', 'close_loss', 'highest_loss', 'lowest_loss']\n",
            "The epoch 6 of training: got weight: [0.9949886227605156, 1.002083707705227, 1.0029276695342575]\n",
            "139/139 - 13s - loss: 0.0101 - close_loss: 0.0036 - highest_loss: 0.0032 - lowest_loss: 0.0033 - 13s/epoch - 96ms/step\n",
            "Epoch 7/100\n",
            "End epoch 7 of training; got log keys: ['loss', 'close_loss', 'highest_loss', 'lowest_loss']\n",
            "The epoch 7 of training: got weight: [0.9937340235054374, 1.002851282305588, 1.0034146941889748]\n",
            "139/139 - 13s - loss: 0.0090 - close_loss: 0.0032 - highest_loss: 0.0029 - lowest_loss: 0.0029 - 13s/epoch - 96ms/step\n",
            "Epoch 8/100\n",
            "End epoch 8 of training; got log keys: ['loss', 'close_loss', 'highest_loss', 'lowest_loss']\n",
            "The epoch 8 of training: got weight: [1.0080800548117523, 0.9981008259195908, 0.9938191192686566]\n",
            "139/139 - 13s - loss: 0.0084 - close_loss: 0.0030 - highest_loss: 0.0027 - lowest_loss: 0.0027 - 13s/epoch - 95ms/step\n",
            "Epoch 9/100\n",
            "End epoch 9 of training; got log keys: ['loss', 'close_loss', 'highest_loss', 'lowest_loss']\n",
            "The epoch 9 of training: got weight: [1.0054931944556071, 0.9992250093420353, 0.9952817962023578]\n",
            "139/139 - 13s - loss: 0.0072 - close_loss: 0.0026 - highest_loss: 0.0023 - lowest_loss: 0.0023 - 13s/epoch - 96ms/step\n",
            "Epoch 10/100\n",
            "End epoch 10 of training; got log keys: ['loss', 'close_loss', 'highest_loss', 'lowest_loss']\n",
            "The epoch 10 of training: got weight: [1.001017076782956, 0.9975426893039525, 1.0014402339130914]\n",
            "139/139 - 14s - loss: 0.0071 - close_loss: 0.0026 - highest_loss: 0.0023 - lowest_loss: 0.0022 - 14s/epoch - 97ms/step\n",
            "Epoch 11/100\n",
            "End epoch 11 of training; got log keys: ['loss', 'close_loss', 'highest_loss', 'lowest_loss']\n",
            "The epoch 11 of training: got weight: [1.000508684777047, 1.002600438954778, 0.9968908762681753]\n",
            "139/139 - 14s - loss: 0.0066 - close_loss: 0.0024 - highest_loss: 0.0021 - lowest_loss: 0.0021 - 14s/epoch - 98ms/step\n",
            "Epoch 12/100\n",
            "End epoch 12 of training; got log keys: ['loss', 'close_loss', 'highest_loss', 'lowest_loss']\n",
            "The epoch 12 of training: got weight: [1.0097627943791434, 1.0018681402344072, 0.9883690653864496]\n",
            "139/139 - 13s - loss: 0.0062 - close_loss: 0.0022 - highest_loss: 0.0020 - lowest_loss: 0.0020 - 13s/epoch - 97ms/step\n",
            "Epoch 13/100\n",
            "End epoch 13 of training; got log keys: ['loss', 'close_loss', 'highest_loss', 'lowest_loss']\n",
            "The epoch 13 of training: got weight: [0.9952861265613775, 0.9954458437656246, 1.0092680296729981]\n",
            "139/139 - 13s - loss: 0.0061 - close_loss: 0.0022 - highest_loss: 0.0019 - lowest_loss: 0.0019 - 13s/epoch - 96ms/step\n",
            "Epoch 14/100\n",
            "End epoch 14 of training; got log keys: ['loss', 'close_loss', 'highest_loss', 'lowest_loss']\n",
            "The epoch 14 of training: got weight: [1.004126958098577, 1.0011836089328463, 0.9946894329685768]\n",
            "139/139 - 13s - loss: 0.0050 - close_loss: 0.0019 - highest_loss: 0.0016 - lowest_loss: 0.0016 - 13s/epoch - 96ms/step\n",
            "Epoch 15/100\n",
            "End epoch 15 of training; got log keys: ['loss', 'close_loss', 'highest_loss', 'lowest_loss']\n",
            "The epoch 15 of training: got weight: [1.0002123612568623, 0.9991501881948273, 1.0006374505483104]\n",
            "139/139 - 13s - loss: 0.0048 - close_loss: 0.0018 - highest_loss: 0.0015 - lowest_loss: 0.0015 - 13s/epoch - 96ms/step\n",
            "Epoch 16/100\n",
            "End epoch 16 of training; got log keys: ['loss', 'close_loss', 'highest_loss', 'lowest_loss']\n",
            "The epoch 16 of training: got weight: [1.0096044762499683, 0.9944899162928987, 0.9959056074571333]\n",
            "139/139 - 13s - loss: 0.0042 - close_loss: 0.0016 - highest_loss: 0.0013 - lowest_loss: 0.0013 - 13s/epoch - 97ms/step\n",
            "Epoch 17/100\n",
            "End epoch 17 of training; got log keys: ['loss', 'close_loss', 'highest_loss', 'lowest_loss']\n",
            "The epoch 17 of training: got weight: [1.011191286800143, 1.0041152191913094, 0.9846934940085478]\n",
            "139/139 - 13s - loss: 0.0044 - close_loss: 0.0017 - highest_loss: 0.0014 - lowest_loss: 0.0014 - 13s/epoch - 97ms/step\n",
            "Epoch 18/100\n",
            "End epoch 18 of training; got log keys: ['loss', 'close_loss', 'highest_loss', 'lowest_loss']\n",
            "The epoch 18 of training: got weight: [1.0029876354368028, 0.9944607157840618, 1.0025516487791355]\n",
            "139/139 - 13s - loss: 0.0050 - close_loss: 0.0019 - highest_loss: 0.0016 - lowest_loss: 0.0015 - 13s/epoch - 97ms/step\n",
            "Epoch 19/100\n",
            "End epoch 19 of training; got log keys: ['loss', 'close_loss', 'highest_loss', 'lowest_loss']\n",
            "The epoch 19 of training: got weight: [0.9952473764020338, 0.9940829431900524, 1.010669680407914]\n",
            "139/139 - 13s - loss: 0.0037 - close_loss: 0.0014 - highest_loss: 0.0012 - lowest_loss: 0.0011 - 13s/epoch - 95ms/step\n",
            "Epoch 20/100\n",
            "End epoch 20 of training; got log keys: ['loss', 'close_loss', 'highest_loss', 'lowest_loss']\n",
            "The epoch 20 of training: got weight: [0.9917109026262667, 1.018284075886428, 0.9900050214873054]\n",
            "139/139 - 13s - loss: 0.0038 - close_loss: 0.0015 - highest_loss: 0.0012 - lowest_loss: 0.0012 - 13s/epoch - 96ms/step\n",
            "Epoch 21/100\n",
            "End epoch 21 of training; got log keys: ['loss', 'close_loss', 'highest_loss', 'lowest_loss']\n",
            "The epoch 21 of training: got weight: [1.0128925845299424, 0.9977264019087014, 0.9893810135613561]\n",
            "139/139 - 13s - loss: 0.0036 - close_loss: 0.0014 - highest_loss: 0.0011 - lowest_loss: 0.0011 - 13s/epoch - 96ms/step\n",
            "Epoch 22/100\n",
            "End epoch 22 of training; got log keys: ['loss', 'close_loss', 'highest_loss', 'lowest_loss']\n",
            "The epoch 22 of training: got weight: [0.9967568577895314, 0.9888371770812948, 1.014405965129174]\n",
            "139/139 - 13s - loss: 0.0035 - close_loss: 0.0014 - highest_loss: 0.0011 - lowest_loss: 0.0010 - 13s/epoch - 96ms/step\n",
            "Epoch 23/100\n",
            "End epoch 23 of training; got log keys: ['loss', 'close_loss', 'highest_loss', 'lowest_loss']\n",
            "The epoch 23 of training: got weight: [1.0039011683197272, 1.0058179084177552, 0.9902809232625178]\n",
            "139/139 - 13s - loss: 0.0035 - close_loss: 0.0014 - highest_loss: 0.0011 - lowest_loss: 0.0010 - 13s/epoch - 95ms/step\n",
            "Epoch 24/100\n",
            "End epoch 24 of training; got log keys: ['loss', 'close_loss', 'highest_loss', 'lowest_loss']\n",
            "The epoch 24 of training: got weight: [1.0079043505820138, 0.9971976287465367, 0.9948980206714494]\n",
            "139/139 - 13s - loss: 0.0035 - close_loss: 0.0014 - highest_loss: 0.0011 - lowest_loss: 0.0011 - 13s/epoch - 95ms/step\n",
            "Epoch 25/100\n",
            "End epoch 25 of training; got log keys: ['loss', 'close_loss', 'highest_loss', 'lowest_loss']\n",
            "The epoch 25 of training: got weight: [0.9944436592919923, 1.0019969841982554, 1.0035593565097523]\n",
            "139/139 - 13s - loss: 0.0034 - close_loss: 0.0013 - highest_loss: 0.0011 - lowest_loss: 9.6882e-04 - 13s/epoch - 95ms/step\n",
            "Epoch 26/100\n",
            "End epoch 26 of training; got log keys: ['loss', 'close_loss', 'highest_loss', 'lowest_loss']\n",
            "The epoch 26 of training: got weight: [0.99886161928522, 0.9989538292575686, 1.0021845514572112]\n",
            "139/139 - 13s - loss: 0.0032 - close_loss: 0.0013 - highest_loss: 9.9399e-04 - lowest_loss: 9.6138e-04 - 13s/epoch - 96ms/step\n",
            "Epoch 27/100\n",
            "End epoch 27 of training; got log keys: ['loss', 'close_loss', 'highest_loss', 'lowest_loss']\n",
            "The epoch 27 of training: got weight: [1.0063619107735944, 1.0111237986801611, 0.9825142905462448]\n",
            "139/139 - 13s - loss: 0.0031 - close_loss: 0.0012 - highest_loss: 9.5737e-04 - lowest_loss: 9.3097e-04 - 13s/epoch - 95ms/step\n",
            "Epoch 28/100\n",
            "End epoch 28 of training; got log keys: ['loss', 'close_loss', 'highest_loss', 'lowest_loss']\n",
            "The epoch 28 of training: got weight: [0.9971674190280589, 0.9861532455138599, 1.0166793354580814]\n",
            "139/139 - 13s - loss: 0.0033 - close_loss: 0.0013 - highest_loss: 9.9466e-04 - lowest_loss: 9.8086e-04 - 13s/epoch - 95ms/step\n",
            "Epoch 29/100\n",
            "End epoch 29 of training; got log keys: ['loss', 'close_loss', 'highest_loss', 'lowest_loss']\n",
            "The epoch 29 of training: got weight: [1.0019638150440286, 0.9977157460749606, 1.0003204388810107]\n",
            "139/139 - 13s - loss: 0.0031 - close_loss: 0.0012 - highest_loss: 9.7426e-04 - lowest_loss: 9.0540e-04 - 13s/epoch - 95ms/step\n",
            "Epoch 30/100\n",
            "End epoch 30 of training; got log keys: ['loss', 'close_loss', 'highest_loss', 'lowest_loss']\n",
            "The epoch 30 of training: got weight: [1.0032553741060364, 0.994718565069247, 1.0020260608247167]\n",
            "139/139 - 13s - loss: 0.0033 - close_loss: 0.0013 - highest_loss: 0.0010 - lowest_loss: 9.7753e-04 - 13s/epoch - 96ms/step\n",
            "Epoch 31/100\n",
            "End epoch 31 of training; got log keys: ['loss', 'close_loss', 'highest_loss', 'lowest_loss']\n",
            "The epoch 31 of training: got weight: [0.9939496043423477, 1.0171749517786497, 0.9888754438790024]\n",
            "139/139 - 13s - loss: 0.0030 - close_loss: 0.0012 - highest_loss: 9.3332e-04 - lowest_loss: 8.7916e-04 - 13s/epoch - 95ms/step\n",
            "Epoch 32/100\n",
            "End epoch 32 of training; got log keys: ['loss', 'close_loss', 'highest_loss', 'lowest_loss']\n",
            "The epoch 32 of training: got weight: [1.002775598576007, 0.9965736682493981, 1.0006507331745949]\n",
            "139/139 - 13s - loss: 0.0031 - close_loss: 0.0012 - highest_loss: 9.4051e-04 - lowest_loss: 9.0136e-04 - 13s/epoch - 96ms/step\n",
            "Epoch 33/100\n",
            "End epoch 33 of training; got log keys: ['loss', 'close_loss', 'highest_loss', 'lowest_loss']\n",
            "The epoch 33 of training: got weight: [1.0073438410473932, 0.9950026910351719, 0.9976534679174354]\n",
            "139/139 - 13s - loss: 0.0030 - close_loss: 0.0012 - highest_loss: 9.4482e-04 - lowest_loss: 8.7328e-04 - 13s/epoch - 94ms/step\n",
            "Epoch 34/100\n",
            "End epoch 34 of training; got log keys: ['loss', 'close_loss', 'highest_loss', 'lowest_loss']\n",
            "The epoch 34 of training: got weight: [1.0068651003977682, 0.9921930972522798, 1.0009418023499521]\n",
            "139/139 - 13s - loss: 0.0030 - close_loss: 0.0012 - highest_loss: 9.2215e-04 - lowest_loss: 9.0365e-04 - 13s/epoch - 94ms/step\n",
            "Epoch 35/100\n",
            "End epoch 35 of training; got log keys: ['loss', 'close_loss', 'highest_loss', 'lowest_loss']\n",
            "The epoch 35 of training: got weight: [0.9938053527785635, 1.0120602286303118, 0.994134418591125]\n",
            "139/139 - 13s - loss: 0.0029 - close_loss: 0.0012 - highest_loss: 8.9109e-04 - lowest_loss: 8.8541e-04 - 13s/epoch - 95ms/step\n",
            "Epoch 36/100\n",
            "End epoch 36 of training; got log keys: ['loss', 'close_loss', 'highest_loss', 'lowest_loss']\n",
            "The epoch 36 of training: got weight: [1.003854139991421, 0.9834094193102658, 1.0127364406983133]\n",
            "139/139 - 13s - loss: 0.0029 - close_loss: 0.0012 - highest_loss: 8.7631e-04 - lowest_loss: 8.4320e-04 - 13s/epoch - 95ms/step\n",
            "Epoch 37/100\n",
            "End epoch 37 of training; got log keys: ['loss', 'close_loss', 'highest_loss', 'lowest_loss']\n",
            "The epoch 37 of training: got weight: [0.9932178349372902, 1.0000070993928825, 1.0067750656698276]\n",
            "139/139 - 13s - loss: 0.0030 - close_loss: 0.0012 - highest_loss: 9.2736e-04 - lowest_loss: 8.4897e-04 - 13s/epoch - 95ms/step\n",
            "Epoch 38/100\n",
            "End epoch 38 of training; got log keys: ['loss', 'close_loss', 'highest_loss', 'lowest_loss']\n",
            "The epoch 38 of training: got weight: [1.0074992335622337, 1.0039919380697864, 0.9885088283679802]\n",
            "139/139 - 15s - loss: 0.0028 - close_loss: 0.0011 - highest_loss: 8.7788e-04 - lowest_loss: 7.8575e-04 - 15s/epoch - 107ms/step\n",
            "Epoch 39/100\n",
            "End epoch 39 of training; got log keys: ['loss', 'close_loss', 'highest_loss', 'lowest_loss']\n",
            "The epoch 39 of training: got weight: [1.0022335089626366, 1.01172230969194, 0.9860441813454233]\n",
            "139/139 - 13s - loss: 0.0028 - close_loss: 0.0011 - highest_loss: 8.4907e-04 - lowest_loss: 8.1567e-04 - 13s/epoch - 97ms/step\n",
            "Epoch 40/100\n",
            "End epoch 40 of training; got log keys: ['loss', 'close_loss', 'highest_loss', 'lowest_loss']\n",
            "The epoch 40 of training: got weight: [1.001113727811052, 1.0047176513213438, 0.9941686208676039]\n",
            "139/139 - 14s - loss: 0.0029 - close_loss: 0.0012 - highest_loss: 8.9115e-04 - lowest_loss: 8.1671e-04 - 14s/epoch - 97ms/step\n",
            "Epoch 41/100\n",
            "End epoch 41 of training; got log keys: ['loss', 'close_loss', 'highest_loss', 'lowest_loss']\n",
            "The epoch 41 of training: got weight: [0.999784603877301, 0.9823809852546396, 1.0178344108680595]\n",
            "139/139 - 13s - loss: 0.0033 - close_loss: 0.0013 - highest_loss: 0.0010 - lowest_loss: 9.4556e-04 - 13s/epoch - 96ms/step\n",
            "Epoch 42/100\n",
            "End epoch 42 of training; got log keys: ['loss', 'close_loss', 'highest_loss', 'lowest_loss']\n",
            "The epoch 42 of training: got weight: [0.9987615968663259, 1.0126983619164858, 0.988540041217188]\n",
            "139/139 - 13s - loss: 0.0029 - close_loss: 0.0012 - highest_loss: 8.9973e-04 - lowest_loss: 8.1245e-04 - 13s/epoch - 96ms/step\n",
            "Epoch 43/100\n",
            "End epoch 43 of training; got log keys: ['loss', 'close_loss', 'highest_loss', 'lowest_loss']\n",
            "The epoch 43 of training: got weight: [0.9824397657843074, 1.0123575623000964, 1.0052026719155966]\n",
            "139/139 - 13s - loss: 0.0030 - close_loss: 0.0012 - highest_loss: 9.5110e-04 - lowest_loss: 8.7244e-04 - 13s/epoch - 96ms/step\n",
            "Epoch 44/100\n",
            "End epoch 44 of training; got log keys: ['loss', 'close_loss', 'highest_loss', 'lowest_loss']\n",
            "The epoch 44 of training: got weight: [1.0135467182689493, 0.9937900314979613, 0.9926632502330893]\n",
            "139/139 - 13s - loss: 0.0030 - close_loss: 0.0012 - highest_loss: 9.5052e-04 - lowest_loss: 8.7572e-04 - 13s/epoch - 95ms/step\n",
            "Epoch 45/100\n",
            "End epoch 45 of training; got log keys: ['loss', 'close_loss', 'highest_loss', 'lowest_loss']\n",
            "The epoch 45 of training: got weight: [0.9893726873623261, 1.0011026129783476, 1.0095246996593263]\n",
            "139/139 - 13s - loss: 0.0030 - close_loss: 0.0012 - highest_loss: 9.0528e-04 - lowest_loss: 8.8256e-04 - 13s/epoch - 95ms/step\n",
            "Epoch 46/100\n",
            "End epoch 46 of training; got log keys: ['loss', 'close_loss', 'highest_loss', 'lowest_loss']\n",
            "The epoch 46 of training: got weight: [1.0008344746091016, 0.9984927744112517, 1.000672750979647]\n",
            "139/139 - 13s - loss: 0.0025 - close_loss: 0.0010 - highest_loss: 7.7219e-04 - lowest_loss: 7.2406e-04 - 13s/epoch - 95ms/step\n",
            "Epoch 47/100\n",
            "End epoch 47 of training; got log keys: ['loss', 'close_loss', 'highest_loss', 'lowest_loss']\n",
            "The epoch 47 of training: got weight: [1.001211752937301, 0.9855516176681449, 1.0132366293945543]\n",
            "139/139 - 13s - loss: 0.0026 - close_loss: 0.0011 - highest_loss: 7.7646e-04 - lowest_loss: 7.3793e-04 - 13s/epoch - 96ms/step\n",
            "Epoch 48/100\n",
            "End epoch 48 of training; got log keys: ['loss', 'close_loss', 'highest_loss', 'lowest_loss']\n",
            "The epoch 48 of training: got weight: [1.0067694575545352, 1.0047307279643474, 0.9884998144811175]\n",
            "139/139 - 13s - loss: 0.0030 - close_loss: 0.0012 - highest_loss: 9.0532e-04 - lowest_loss: 8.6717e-04 - 13s/epoch - 96ms/step\n",
            "Epoch 49/100\n",
            "End epoch 49 of training; got log keys: ['loss', 'close_loss', 'highest_loss', 'lowest_loss']\n",
            "The epoch 49 of training: got weight: [1.0087234452720684, 0.9922465907439469, 0.9990299639839851]\n",
            "139/139 - 13s - loss: 0.0028 - close_loss: 0.0011 - highest_loss: 8.6723e-04 - lowest_loss: 7.8329e-04 - 13s/epoch - 96ms/step\n",
            "Epoch 50/100\n",
            "End epoch 50 of training; got log keys: ['loss', 'close_loss', 'highest_loss', 'lowest_loss']\n",
            "The epoch 50 of training: got weight: [0.9933585132119191, 1.0010209987900989, 1.005620487997982]\n",
            "139/139 - 13s - loss: 0.0029 - close_loss: 0.0012 - highest_loss: 8.9430e-04 - lowest_loss: 8.4177e-04 - 13s/epoch - 96ms/step\n",
            "Epoch 51/100\n",
            "End epoch 51 of training; got log keys: ['loss', 'close_loss', 'highest_loss', 'lowest_loss']\n",
            "The epoch 51 of training: got weight: [0.9941827669660782, 1.0166102274143187, 0.9892070056196034]\n",
            "139/139 - 13s - loss: 0.0026 - close_loss: 0.0011 - highest_loss: 8.1216e-04 - lowest_loss: 7.3344e-04 - 13s/epoch - 96ms/step\n",
            "Epoch 52/100\n",
            "End epoch 52 of training; got log keys: ['loss', 'close_loss', 'highest_loss', 'lowest_loss']\n",
            "The epoch 52 of training: got weight: [1.0038758441539553, 0.9872236627687164, 1.0089004930773287]\n",
            "139/139 - 13s - loss: 0.0029 - close_loss: 0.0011 - highest_loss: 8.8973e-04 - lowest_loss: 8.4734e-04 - 13s/epoch - 96ms/step\n",
            "Epoch 53/100\n",
            "End epoch 53 of training; got log keys: ['loss', 'close_loss', 'highest_loss', 'lowest_loss']\n",
            "The epoch 53 of training: got weight: [1.0050660368061781, 1.0066539911630277, 0.9882799720307944]\n",
            "139/139 - 13s - loss: 0.0029 - close_loss: 0.0012 - highest_loss: 8.9631e-04 - lowest_loss: 8.6533e-04 - 13s/epoch - 95ms/step\n",
            "Epoch 54/100\n",
            "End epoch 54 of training; got log keys: ['loss', 'close_loss', 'highest_loss', 'lowest_loss']\n",
            "The epoch 54 of training: got weight: [0.9842407568367098, 0.9928178967415248, 1.0229413464217652]\n",
            "139/139 - 13s - loss: 0.0027 - close_loss: 0.0011 - highest_loss: 8.4738e-04 - lowest_loss: 7.8379e-04 - 13s/epoch - 95ms/step\n",
            "Epoch 55/100\n",
            "End epoch 55 of training; got log keys: ['loss', 'close_loss', 'highest_loss', 'lowest_loss']\n",
            "The epoch 55 of training: got weight: [0.9963373231179349, 0.9983654310902546, 1.0052972457918106]\n",
            "139/139 - 13s - loss: 0.0031 - close_loss: 0.0012 - highest_loss: 9.7720e-04 - lowest_loss: 9.2118e-04 - 13s/epoch - 96ms/step\n",
            "Epoch 56/100\n",
            "End epoch 56 of training; got log keys: ['loss', 'close_loss', 'highest_loss', 'lowest_loss']\n",
            "The epoch 56 of training: got weight: [1.006793110922097, 1.00647772483045, 0.9867291642474535]\n",
            "139/139 - 13s - loss: 0.0025 - close_loss: 0.0010 - highest_loss: 7.7128e-04 - lowest_loss: 6.9916e-04 - 13s/epoch - 96ms/step\n",
            "Epoch 57/100\n",
            "End epoch 57 of training; got log keys: ['loss', 'close_loss', 'highest_loss', 'lowest_loss']\n",
            "The epoch 57 of training: got weight: [0.9915849871074494, 0.9986618620381648, 1.009753150854386]\n",
            "139/139 - 13s - loss: 0.0029 - close_loss: 0.0012 - highest_loss: 8.9193e-04 - lowest_loss: 8.2069e-04 - 13s/epoch - 96ms/step\n",
            "Epoch 58/100\n",
            "End epoch 58 of training; got log keys: ['loss', 'close_loss', 'highest_loss', 'lowest_loss']\n",
            "The epoch 58 of training: got weight: [1.0195343441097564, 0.9977344329407818, 0.9827312229494621]\n",
            "139/139 - 13s - loss: 0.0025 - close_loss: 0.0010 - highest_loss: 7.6600e-04 - lowest_loss: 7.0142e-04 - 13s/epoch - 95ms/step\n",
            "Epoch 59/100\n",
            "End epoch 59 of training; got log keys: ['loss', 'close_loss', 'highest_loss', 'lowest_loss']\n",
            "The epoch 59 of training: got weight: [0.9850831897281486, 1.0030760736016104, 1.011840736670241]\n",
            "139/139 - 13s - loss: 0.0024 - close_loss: 9.9504e-04 - highest_loss: 7.5998e-04 - lowest_loss: 6.8237e-04 - 13s/epoch - 95ms/step\n",
            "Epoch 60/100\n",
            "End epoch 60 of training; got log keys: ['loss', 'close_loss', 'highest_loss', 'lowest_loss']\n",
            "The epoch 60 of training: got weight: [1.0031172511019641, 0.9994742932140883, 0.9974084556839475]\n",
            "139/139 - 13s - loss: 0.0026 - close_loss: 0.0010 - highest_loss: 8.0074e-04 - lowest_loss: 7.4650e-04 - 13s/epoch - 95ms/step\n",
            "Epoch 61/100\n",
            "End epoch 61 of training; got log keys: ['loss', 'close_loss', 'highest_loss', 'lowest_loss']\n",
            "The epoch 61 of training: got weight: [1.0036475594128038, 1.0029931594162311, 0.9933592811709653]\n",
            "139/139 - 13s - loss: 0.0029 - close_loss: 0.0012 - highest_loss: 9.1962e-04 - lowest_loss: 8.6107e-04 - 13s/epoch - 95ms/step\n",
            "Epoch 62/100\n",
            "End epoch 62 of training; got log keys: ['loss', 'close_loss', 'highest_loss', 'lowest_loss']\n",
            "The epoch 62 of training: got weight: [0.990921131037631, 0.9944069127951775, 1.0146719561671913]\n",
            "139/139 - 13s - loss: 0.0027 - close_loss: 0.0011 - highest_loss: 8.5486e-04 - lowest_loss: 7.8316e-04 - 13s/epoch - 96ms/step\n",
            "Epoch 63/100\n",
            "End epoch 63 of training; got log keys: ['loss', 'close_loss', 'highest_loss', 'lowest_loss']\n",
            "The epoch 63 of training: got weight: [0.9895762128373727, 1.0039517428503724, 1.0064720443122548]\n",
            "139/139 - 13s - loss: 0.0028 - close_loss: 0.0011 - highest_loss: 8.4524e-04 - lowest_loss: 8.0419e-04 - 13s/epoch - 96ms/step\n",
            "Epoch 64/100\n",
            "End epoch 64 of training; got log keys: ['loss', 'close_loss', 'highest_loss', 'lowest_loss']\n",
            "The epoch 64 of training: got weight: [1.0041100869171717, 1.002947142956078, 0.9929427701267505]\n",
            "139/139 - 13s - loss: 0.0025 - close_loss: 0.0011 - highest_loss: 7.7238e-04 - lowest_loss: 7.1987e-04 - 13s/epoch - 96ms/step\n",
            "Epoch 65/100\n",
            "End epoch 65 of training; got log keys: ['loss', 'close_loss', 'highest_loss', 'lowest_loss']\n",
            "The epoch 65 of training: got weight: [1.0074124750670754, 0.986803613270045, 1.0057839116628797]\n",
            "139/139 - 13s - loss: 0.0024 - close_loss: 9.9447e-04 - highest_loss: 7.4702e-04 - lowest_loss: 6.7664e-04 - 13s/epoch - 96ms/step\n",
            "Epoch 66/100\n",
            "End epoch 66 of training; got log keys: ['loss', 'close_loss', 'highest_loss', 'lowest_loss']\n",
            "The epoch 66 of training: got weight: [1.0121834785004247, 0.9985427606551975, 0.9892737608443781]\n",
            "139/139 - 14s - loss: 0.0027 - close_loss: 0.0011 - highest_loss: 8.4865e-04 - lowest_loss: 7.6988e-04 - 14s/epoch - 98ms/step\n",
            "Epoch 67/100\n",
            "End epoch 67 of training; got log keys: ['loss', 'close_loss', 'highest_loss', 'lowest_loss']\n",
            "The epoch 67 of training: got weight: [0.9968924466471748, 1.0083700840500014, 0.9947374693028238]\n",
            "139/139 - 14s - loss: 0.0030 - close_loss: 0.0012 - highest_loss: 9.3023e-04 - lowest_loss: 8.7272e-04 - 14s/epoch - 97ms/step\n",
            "Epoch 68/100\n",
            "End epoch 68 of training; got log keys: ['loss', 'close_loss', 'highest_loss', 'lowest_loss']\n",
            "The epoch 68 of training: got weight: [0.9849168985572005, 1.0071018964850658, 1.007981204957734]\n",
            "139/139 - 13s - loss: 0.0026 - close_loss: 0.0011 - highest_loss: 8.0580e-04 - lowest_loss: 7.3376e-04 - 13s/epoch - 96ms/step\n",
            "Epoch 69/100\n",
            "End epoch 69 of training; got log keys: ['loss', 'close_loss', 'highest_loss', 'lowest_loss']\n",
            "The epoch 69 of training: got weight: [0.9953624695569212, 0.9929346315460722, 1.0117028988970065]\n",
            "139/139 - 13s - loss: 0.0027 - close_loss: 0.0011 - highest_loss: 8.3068e-04 - lowest_loss: 7.5468e-04 - 13s/epoch - 95ms/step\n",
            "Epoch 70/100\n",
            "End epoch 70 of training; got log keys: ['loss', 'close_loss', 'highest_loss', 'lowest_loss']\n",
            "The epoch 70 of training: got weight: [1.0124362450635083, 1.000104663862848, 0.9874590910736434]\n",
            "139/139 - 13s - loss: 0.0025 - close_loss: 9.9683e-04 - highest_loss: 7.4951e-04 - lowest_loss: 7.0418e-04 - 13s/epoch - 97ms/step\n",
            "Epoch 71/100\n",
            "End epoch 71 of training; got log keys: ['loss', 'close_loss', 'highest_loss', 'lowest_loss']\n",
            "The epoch 71 of training: got weight: [0.9922052912713796, 1.00449358458738, 1.0033011241412406]\n",
            "139/139 - 13s - loss: 0.0026 - close_loss: 0.0010 - highest_loss: 7.9514e-04 - lowest_loss: 7.4442e-04 - 13s/epoch - 97ms/step\n",
            "Epoch 72/100\n",
            "End epoch 72 of training; got log keys: ['loss', 'close_loss', 'highest_loss', 'lowest_loss']\n",
            "The epoch 72 of training: got weight: [1.0042798043337735, 0.9901751880650048, 1.0055450076012216]\n",
            "139/139 - 13s - loss: 0.0026 - close_loss: 0.0010 - highest_loss: 8.0160e-04 - lowest_loss: 7.3410e-04 - 13s/epoch - 97ms/step\n",
            "Epoch 73/100\n",
            "End epoch 73 of training; got log keys: ['loss', 'close_loss', 'highest_loss', 'lowest_loss']\n",
            "The epoch 73 of training: got weight: [0.9970958760674195, 1.0023887101216917, 1.0005154138108892]\n",
            "139/139 - 13s - loss: 0.0026 - close_loss: 0.0011 - highest_loss: 8.2114e-04 - lowest_loss: 7.3971e-04 - 13s/epoch - 97ms/step\n",
            "Epoch 74/100\n",
            "End epoch 74 of training; got log keys: ['loss', 'close_loss', 'highest_loss', 'lowest_loss']\n",
            "The epoch 74 of training: got weight: [0.999610779600278, 1.005695195019819, 0.9946940253799036]\n",
            "139/139 - 13s - loss: 0.0027 - close_loss: 0.0011 - highest_loss: 8.4502e-04 - lowest_loss: 7.5534e-04 - 13s/epoch - 96ms/step\n",
            "Epoch 75/100\n",
            "End epoch 75 of training; got log keys: ['loss', 'close_loss', 'highest_loss', 'lowest_loss']\n",
            "The epoch 75 of training: got weight: [1.003019763005208, 1.0026626697254444, 0.9943175672693472]\n",
            "139/139 - 13s - loss: 0.0026 - close_loss: 0.0011 - highest_loss: 7.9511e-04 - lowest_loss: 7.4516e-04 - 13s/epoch - 95ms/step\n",
            "Epoch 76/100\n",
            "End epoch 76 of training; got log keys: ['loss', 'close_loss', 'highest_loss', 'lowest_loss']\n",
            "The epoch 76 of training: got weight: [0.9925958320300461, 1.0057013964416162, 1.001702771528338]\n",
            "139/139 - 13s - loss: 0.0026 - close_loss: 0.0011 - highest_loss: 8.0134e-04 - lowest_loss: 7.6905e-04 - 13s/epoch - 96ms/step\n",
            "Epoch 77/100\n",
            "End epoch 77 of training; got log keys: ['loss', 'close_loss', 'highest_loss', 'lowest_loss']\n",
            "The epoch 77 of training: got weight: [1.0080037794104408, 0.9846468886315903, 1.0073493319579687]\n",
            "139/139 - 13s - loss: 0.0026 - close_loss: 0.0011 - highest_loss: 8.0765e-04 - lowest_loss: 7.6517e-04 - 13s/epoch - 95ms/step\n",
            "Epoch 78/100\n",
            "End epoch 78 of training; got log keys: ['loss', 'close_loss', 'highest_loss', 'lowest_loss']\n",
            "The epoch 78 of training: got weight: [0.9956209519107014, 0.996120231524595, 1.008258816564704]\n",
            "139/139 - 13s - loss: 0.0025 - close_loss: 0.0010 - highest_loss: 7.7727e-04 - lowest_loss: 7.1924e-04 - 13s/epoch - 95ms/step\n",
            "Epoch 79/100\n",
            "End epoch 79 of training; got log keys: ['loss', 'close_loss', 'highest_loss', 'lowest_loss']\n",
            "The epoch 79 of training: got weight: [1.0001063542612187, 1.003174402344914, 0.9967192433938671]\n",
            "139/139 - 13s - loss: 0.0026 - close_loss: 0.0011 - highest_loss: 8.1916e-04 - lowest_loss: 7.3233e-04 - 13s/epoch - 95ms/step\n",
            "Epoch 80/100\n",
            "End epoch 80 of training; got log keys: ['loss', 'close_loss', 'highest_loss', 'lowest_loss']\n",
            "The epoch 80 of training: got weight: [1.0013183377633825, 1.0049416972246494, 0.9937399650119679]\n",
            "139/139 - 13s - loss: 0.0026 - close_loss: 0.0011 - highest_loss: 8.1145e-04 - lowest_loss: 7.4697e-04 - 13s/epoch - 95ms/step\n",
            "Epoch 81/100\n",
            "End epoch 81 of training; got log keys: ['loss', 'close_loss', 'highest_loss', 'lowest_loss']\n",
            "The epoch 81 of training: got weight: [1.0001814425694853, 1.0088302407091214, 0.9909883167213933]\n",
            "139/139 - 13s - loss: 0.0026 - close_loss: 0.0011 - highest_loss: 8.0091e-04 - lowest_loss: 7.6005e-04 - 13s/epoch - 96ms/step\n",
            "Epoch 82/100\n",
            "End epoch 82 of training; got log keys: ['loss', 'close_loss', 'highest_loss', 'lowest_loss']\n",
            "The epoch 82 of training: got weight: [1.0011258891807753, 0.9920926284475067, 1.0067814823717187]\n",
            "139/139 - 13s - loss: 0.0026 - close_loss: 0.0011 - highest_loss: 8.0996e-04 - lowest_loss: 7.3793e-04 - 13s/epoch - 95ms/step\n",
            "Epoch 83/100\n",
            "End epoch 83 of training; got log keys: ['loss', 'close_loss', 'highest_loss', 'lowest_loss']\n",
            "The epoch 83 of training: got weight: [0.9997028277814711, 0.9925213541926725, 1.007775818025856]\n",
            "139/139 - 13s - loss: 0.0025 - close_loss: 0.0010 - highest_loss: 7.6352e-04 - lowest_loss: 7.1156e-04 - 13s/epoch - 94ms/step\n",
            "Epoch 84/100\n",
            "End epoch 84 of training; got log keys: ['loss', 'close_loss', 'highest_loss', 'lowest_loss']\n",
            "The epoch 84 of training: got weight: [0.9985885107735742, 1.0108142467388683, 0.9905972424875574]\n",
            "139/139 - 15s - loss: 0.0027 - close_loss: 0.0011 - highest_loss: 8.1787e-04 - lowest_loss: 7.7335e-04 - 15s/epoch - 107ms/step\n",
            "Epoch 85/100\n",
            "End epoch 85 of training; got log keys: ['loss', 'close_loss', 'highest_loss', 'lowest_loss']\n",
            "The epoch 85 of training: got weight: [1.0010008519511429, 0.9941025407855743, 1.0048966072632828]\n",
            "139/139 - 13s - loss: 0.0024 - close_loss: 9.9803e-04 - highest_loss: 7.5704e-04 - lowest_loss: 6.8417e-04 - 13s/epoch - 96ms/step\n",
            "Epoch 86/100\n",
            "End epoch 86 of training; got log keys: ['loss', 'close_loss', 'highest_loss', 'lowest_loss']\n",
            "The epoch 86 of training: got weight: [0.9922259303662758, 0.9999584398722671, 1.0078156297614569]\n",
            "139/139 - 13s - loss: 0.0023 - close_loss: 9.5660e-04 - highest_loss: 7.4066e-04 - lowest_loss: 6.4515e-04 - 13s/epoch - 96ms/step\n",
            "Epoch 87/100\n",
            "End epoch 87 of training; got log keys: ['loss', 'close_loss', 'highest_loss', 'lowest_loss']\n",
            "The epoch 87 of training: got weight: [1.010762786165545, 1.0047970153788426, 0.9844401984556125]\n",
            "139/139 - 13s - loss: 0.0026 - close_loss: 0.0010 - highest_loss: 7.8271e-04 - lowest_loss: 7.4118e-04 - 13s/epoch - 95ms/step\n",
            "Epoch 88/100\n",
            "End epoch 88 of training; got log keys: ['loss', 'close_loss', 'highest_loss', 'lowest_loss']\n",
            "The epoch 88 of training: got weight: [0.9992462039653578, 1.0092300206195146, 0.9915237754151276]\n",
            "139/139 - 13s - loss: 0.0025 - close_loss: 0.0010 - highest_loss: 7.5864e-04 - lowest_loss: 7.0059e-04 - 13s/epoch - 95ms/step\n",
            "Epoch 89/100\n",
            "End epoch 89 of training; got log keys: ['loss', 'close_loss', 'highest_loss', 'lowest_loss']\n",
            "The epoch 89 of training: got weight: [0.9937686975590002, 0.9800295240806173, 1.0262017783603825]\n",
            "139/139 - 13s - loss: 0.0022 - close_loss: 9.1780e-04 - highest_loss: 6.8758e-04 - lowest_loss: 6.1282e-04 - 13s/epoch - 95ms/step\n",
            "Epoch 90/100\n",
            "End epoch 90 of training; got log keys: ['loss', 'close_loss', 'highest_loss', 'lowest_loss']\n",
            "The epoch 90 of training: got weight: [1.006663010475896, 1.0026497566744437, 0.9906872328496605]\n",
            "139/139 - 14s - loss: 0.0023 - close_loss: 9.5035e-04 - highest_loss: 7.0278e-04 - lowest_loss: 6.4358e-04 - 14s/epoch - 97ms/step\n",
            "Epoch 91/100\n",
            "End epoch 91 of training; got log keys: ['loss', 'close_loss', 'highest_loss', 'lowest_loss']\n",
            "The epoch 91 of training: got weight: [1.0048768072075098, 1.0054469072331562, 0.9896762855593335]\n",
            "139/139 - 13s - loss: 0.0025 - close_loss: 0.0010 - highest_loss: 7.5781e-04 - lowest_loss: 6.9196e-04 - 13s/epoch - 96ms/step\n",
            "Epoch 92/100\n",
            "End epoch 92 of training; got log keys: ['loss', 'close_loss', 'highest_loss', 'lowest_loss']\n",
            "The epoch 92 of training: got weight: [0.9997529423178965, 0.9931013330952448, 1.0071457245868587]\n",
            "139/139 - 13s - loss: 0.0024 - close_loss: 9.8923e-04 - highest_loss: 7.3286e-04 - lowest_loss: 6.5593e-04 - 13s/epoch - 95ms/step\n",
            "Epoch 93/100\n",
            "End epoch 93 of training; got log keys: ['loss', 'close_loss', 'highest_loss', 'lowest_loss']\n",
            "The epoch 93 of training: got weight: [0.9927013108779191, 1.0044304583451094, 1.0028682307769716]\n",
            "139/139 - 13s - loss: 0.0023 - close_loss: 9.4617e-04 - highest_loss: 7.0620e-04 - lowest_loss: 6.5812e-04 - 13s/epoch - 95ms/step\n",
            "Epoch 94/100\n",
            "End epoch 94 of training; got log keys: ['loss', 'close_loss', 'highest_loss', 'lowest_loss']\n",
            "The epoch 94 of training: got weight: [1.0097914375156116, 0.999870268862519, 0.9903382936218693]\n",
            "139/139 - 13s - loss: 0.0025 - close_loss: 0.0010 - highest_loss: 7.4686e-04 - lowest_loss: 6.9790e-04 - 13s/epoch - 95ms/step\n",
            "Epoch 95/100\n",
            "End epoch 95 of training; got log keys: ['loss', 'close_loss', 'highest_loss', 'lowest_loss']\n",
            "The epoch 95 of training: got weight: [0.9909856406239058, 0.9945295665102982, 1.0144847928657958]\n",
            "139/139 - 13s - loss: 0.0026 - close_loss: 0.0010 - highest_loss: 7.8372e-04 - lowest_loss: 7.3682e-04 - 13s/epoch - 96ms/step\n",
            "Epoch 96/100\n",
            "End epoch 96 of training; got log keys: ['loss', 'close_loss', 'highest_loss', 'lowest_loss']\n",
            "The epoch 96 of training: got weight: [1.0023617759766428, 0.9981036710930945, 0.9995345529302629]\n",
            "139/139 - 13s - loss: 0.0025 - close_loss: 0.0010 - highest_loss: 7.7082e-04 - lowest_loss: 6.9518e-04 - 13s/epoch - 94ms/step\n",
            "Epoch 97/100\n",
            "End epoch 97 of training; got log keys: ['loss', 'close_loss', 'highest_loss', 'lowest_loss']\n",
            "The epoch 97 of training: got weight: [0.9931812176802235, 1.00180098396192, 1.0050177983578565]\n",
            "139/139 - 13s - loss: 0.0024 - close_loss: 9.7457e-04 - highest_loss: 7.2175e-04 - lowest_loss: 6.6867e-04 - 13s/epoch - 95ms/step\n",
            "Epoch 98/100\n",
            "End epoch 98 of training; got log keys: ['loss', 'close_loss', 'highest_loss', 'lowest_loss']\n",
            "The epoch 98 of training: got weight: [1.0062641297087251, 1.0068487801022135, 0.9868870901890621]\n",
            "139/139 - 13s - loss: 0.0022 - close_loss: 9.1347e-04 - highest_loss: 6.7225e-04 - lowest_loss: 6.1431e-04 - 13s/epoch - 95ms/step\n",
            "Epoch 99/100\n",
            "End epoch 99 of training; got log keys: ['loss', 'close_loss', 'highest_loss', 'lowest_loss']\n",
            "The epoch 99 of training: got weight: [1.001260938908761, 0.992996020652807, 1.0057430404384324]\n",
            "139/139 - 13s - loss: 0.0022 - close_loss: 9.2138e-04 - highest_loss: 6.7501e-04 - lowest_loss: 6.0897e-04 - 13s/epoch - 95ms/step\n",
            "Epoch 100/100\n",
            "End epoch 100 of training; got log keys: ['loss', 'close_loss', 'highest_loss', 'lowest_loss']\n",
            "The epoch 100 of training: got weight: [1.0040852890005316, 1.0011276110497136, 0.994787099949755]\n",
            "139/139 - 13s - loss: 0.0025 - close_loss: 0.0010 - highest_loss: 7.8840e-04 - lowest_loss: 7.0350e-04 - 13s/epoch - 95ms/step\n"
          ]
        },
        {
          "output_type": "execute_result",
          "data": {
            "text/plain": [
              "<keras.callbacks.History at 0x7f3cf2711d50>"
            ]
          },
          "metadata": {},
          "execution_count": 29
        }
      ]
    },
    {
      "cell_type": "code",
      "metadata": {
        "id": "Z2vJrIvmnM1W"
      },
      "source": [
        "history = reg.history.history"
      ],
      "execution_count": null,
      "outputs": []
    },
    {
      "cell_type": "code",
      "metadata": {
        "id": "zzIf9AvRhckq"
      },
      "source": [
        "#history"
      ],
      "execution_count": null,
      "outputs": []
    },
    {
      "cell_type": "code",
      "metadata": {
        "id": "nBUzXHwlQNk8"
      },
      "source": [
        ""
      ],
      "execution_count": null,
      "outputs": []
    },
    {
      "cell_type": "code",
      "metadata": {
        "id": "Ead_TIg_G7EP"
      },
      "source": [
        "input_close = df_close[len(df_close)-len(test_set_close)-time_step:].values\n",
        "input_close = ZeroOneScaler(input_close,test_set_close)\n",
        "\n",
        "input_highest = df_highest[len(df_highest)-len(test_set_highest)-time_step:].values\n",
        "input_highest = ZeroOneScaler(input_highest,test_set_highest)\n",
        "\n",
        "input_lowest = df_lowest[len(df_lowest)-len(test_set_lowest)-time_step:].values\n",
        "input_lowest = ZeroOneScaler(input_lowest,test_set_lowest)\n",
        "\n",
        "#input_volume = df_volume[len(df_volume)-len(test_set_volume)-time_step:].values\n",
        "#input_volume = ZeroOneScaler(input_volume,test_set_volume)"
      ],
      "execution_count": null,
      "outputs": []
    },
    {
      "cell_type": "code",
      "metadata": {
        "id": "6OUeqo1Gpt1k",
        "colab": {
          "base_uri": "https://localhost:8080/"
        },
        "outputId": "1cdc1273-c1b3-49e9-d788-e649efc9b18a"
      },
      "source": [
        "len(test_set_close)"
      ],
      "execution_count": null,
      "outputs": [
        {
          "output_type": "execute_result",
          "data": {
            "text/plain": [
              "570"
            ]
          },
          "metadata": {},
          "execution_count": 33
        }
      ]
    },
    {
      "cell_type": "code",
      "metadata": {
        "colab": {
          "base_uri": "https://localhost:8080/"
        },
        "id": "MYbwqp9MMKIM",
        "outputId": "a09949ca-a4e2-4a7f-ce54-36df091eab17"
      },
      "source": [
        "len(input_close)"
      ],
      "execution_count": null,
      "outputs": [
        {
          "output_type": "execute_result",
          "data": {
            "text/plain": [
              "630"
            ]
          },
          "metadata": {},
          "execution_count": 34
        }
      ]
    },
    {
      "cell_type": "code",
      "metadata": {
        "colab": {
          "base_uri": "https://localhost:8080/"
        },
        "id": "lHgzCibYG9v0",
        "outputId": "b7e56b11-9cbd-48e6-f426-c83482d16a50"
      },
      "source": [
        "x_test_close = []\n",
        "x_test_highest = []\n",
        "x_test_lowest = []\n",
        "#x_test_volume = []\n",
        "y_test_close = []\n",
        "y_test_highest = []\n",
        "y_test_lowest = []\n",
        "#y_test_volume = []\n",
        "for i in range(time_step,len(input_close)):\n",
        "    x_test_close.append(input_close[i-time_step:i,0])\n",
        "    x_test_highest.append(input_highest[i-time_step:i,0])\n",
        "    x_test_lowest.append(input_lowest[i-time_step:i,0])\n",
        "    #x_test_volume.append(input_volume[i-time_step:i,0])\n",
        "    y_test_close.append(input_close[i,0])\n",
        "    y_test_highest.append(input_highest[i,0])\n",
        "    y_test_lowest.append(input_lowest[i,0])\n",
        "    #y_test_volume.append(input_volume[i,0])\n",
        "y_test_close = np.array(y_test_close)\n",
        "y_test_highest = np.array(y_test_highest)\n",
        "y_test_lowest = np.array(y_test_lowest)\n",
        "#y_test_volume = np.array(y_test_volume)\n",
        "\n",
        "x_test_close = np.array(x_test_close)\n",
        "x_test_close = np.reshape(x_test_close,(x_test_close.shape[0],x_test_close.shape[1],1))\n",
        "x_test_highest = np.array(x_test_highest)\n",
        "x_test_highest = np.reshape(x_test_highest,(x_test_highest.shape[0],x_test_highest.shape[1],1))\n",
        "x_test_lowest = np.array(x_test_lowest)\n",
        "x_test_lowest = np.reshape(x_test_lowest,(x_test_lowest.shape[0],x_test_lowest.shape[1],1))\n",
        "#x_test_volume = np.array(x_test_volume)\n",
        "#x_test_volume = np.reshape(x_test_volume,(x_test_volume.shape[0],x_test_volume.shape[1],1))\n",
        "x_test_close.shape"
      ],
      "execution_count": null,
      "outputs": [
        {
          "output_type": "execute_result",
          "data": {
            "text/plain": [
              "(570, 60, 1)"
            ]
          },
          "metadata": {},
          "execution_count": 35
        }
      ]
    },
    {
      "cell_type": "code",
      "metadata": {
        "id": "NKfbjyUCHQfA"
      },
      "source": [
        "#len(pred[0])"
      ],
      "execution_count": null,
      "outputs": []
    },
    {
      "cell_type": "code",
      "metadata": {
        "id": "vbNW0TRSHxo2"
      },
      "source": [
        "#len(pred_close)"
      ],
      "execution_count": null,
      "outputs": []
    },
    {
      "cell_type": "code",
      "metadata": {
        "colab": {
          "base_uri": "https://localhost:8080/",
          "height": 295
        },
        "id": "DiOme6EaAQEu",
        "outputId": "e4d20d58-1bd4-4057-c283-c1b0cc51e085"
      },
      "source": [
        "plt.plot(weighting[0])\n",
        "plt.plot(weighting[1])\n",
        "plt.plot(weighting[2])\n",
        "\n",
        "plt.title('Dynamic Weight Average')\n",
        "plt.ylabel('Loss_Weight')\n",
        "plt.xlabel('Epoch')\n",
        "plt.legend(['close_weight', 'hightest_weight', 'lowest_weight'], loc='upper left')\n",
        "#plt.legend(['close_weight', 'hightest_weight', 'lowest_weight', 'volume_weight'], loc='upper left')\n",
        "plt.show()"
      ],
      "execution_count": null,
      "outputs": [
        {
          "output_type": "display_data",
          "data": {
            "image/png": "[encoded data removed]",
            "text/plain": [
              "<Figure size 432x288 with 1 Axes>"
            ]
          },
          "metadata": {
            "needs_background": "light"
          }
        }
      ]
    },
    {
      "cell_type": "code",
      "metadata": {
        "colab": {
          "base_uri": "https://localhost:8080/",
          "height": 295
        },
        "id": "C4hrBpvWn7Md",
        "outputId": "444afb41-cc64-48f9-e02e-c5c470691a77"
      },
      "source": [
        "plt.plot(reg.history.history['loss'])  \n",
        "plt.plot(reg.history.history['close_loss'])\n",
        "plt.plot(reg.history.history['highest_loss']) \n",
        "plt.plot(reg.history.history['lowest_loss']) \n",
        "#plt.plot(reg.history.history['volume_loss']) \n",
        "plt.title('Train History(Loss)')  \n",
        "plt.ylabel('loss')  \n",
        "plt.xlabel('Epoch')  \n",
        "plt.legend(['loss', 'close_loss', 'highest_loss', 'lowest_loss'], loc='upper left')  \n",
        "#plt.legend(['loss', 'close_loss', 'highest_loss', 'lowest_loss', 'volume_loss'], loc='upper left')  \n",
        "plt.show()"
      ],
      "execution_count": null,
      "outputs": [
        {
          "output_type": "display_data",
          "data": {
            "image/png": "[encoded data removed]",
            "text/plain": [
              "<Figure size 432x288 with 1 Axes>"
            ]
          },
          "metadata": {
            "needs_background": "light"
          }
        }
      ]
    },
    {
      "cell_type": "code",
      "metadata": {
        "colab": {
          "base_uri": "https://localhost:8080/",
          "height": 297
        },
        "id": "OZDXtiSDG9yV",
        "outputId": "5b021b8c-a1d4-4e84-c5d9-c463793e284b"
      },
      "source": [
        "pred = reg.predict(x_test_close)\n",
        "#pred_close = model.inverse_transform(pred[0])\n",
        "pred_close = ZeroOneDeScaler(pred[0],test_set_close)\n",
        "df.loc[training_length:len(df)-1, 'pred_close'] = pred_close\n",
        "df['pred_close'][training_length:].plot(color=\"red\",label='預測價格')\n",
        "ax = df['Closing Price'][training_length:].plot(color=\"green\",label='實際價格')\n",
        "plt.ylabel('價格',fontproperties=myfont)  \n",
        "plt.xlabel('日期',fontproperties=myfont)\n",
        "ax.set_xticks(df.index[training_length::70])\n",
        "ax.set_xticklabels(df.Date[training_length::70], rotation=45)\n",
        "plt.legend(loc='best',prop=myfont)\n",
        "plt.tight_layout()\n",
        "plt.savefig(stock_symbol+\"_single_input_DWA_LSTM_\"+str(time_step)+\"days_all\"+\".png\",dpi=3000)"
      ],
      "execution_count": null,
      "outputs": [
        {
          "output_type": "display_data",
          "data": {
            "image/png": "[encoded data removed]",
            "text/plain": [
              "<Figure size 432x288 with 1 Axes>"
            ]
          },
          "metadata": {
            "needs_background": "light"
          }
        }
      ]
    },
    {
      "cell_type": "code",
      "metadata": {
        "id": "ASaDurDUlUYn"
      },
      "source": [
        "df['pred_close'][2664:2709].plot(color=\"red\",label='預測價格')\n",
        "ax = df['Closing Price'][2664:2709].plot(color=\"green\",label='實際價格')\n",
        "plt.ylabel('價格',fontproperties=myfont)  \n",
        "plt.xlabel('日期',fontproperties=myfont)\n",
        "ax.set_xticks(df.index[2664:2709:5])\n",
        "ax.set_xticklabels(df.Date[2664:2709:5], rotation=45)\n",
        "plt.legend(loc='best',prop=myfont)\n",
        "plt.tight_layout()\n"
      ],
      "execution_count": null,
      "outputs": []
    },
    {
      "cell_type": "code",
      "metadata": {
        "id": "mSDSViLDQdDN"
      },
      "source": [
        "df['pred_close'][2810:].plot(color=\"red\",label='預測價格')\n",
        "ax = df['Closing Price'][2810:].plot(color=\"green\",label='實際價格')\n",
        "plt.ylabel('價格',fontproperties=myfont)  \n",
        "plt.xlabel('日期',fontproperties=myfont)\n",
        "ax.set_xticks(df.index[2810::3])\n",
        "ax.set_xticklabels(df.Date[2810::3], rotation=45)\n",
        "plt.legend(loc='best',prop=myfont)\n",
        "plt.tight_layout()\n",
        "plt.savefig(stock_symbol+\"_single_input_DWA_LSTM_\"+str(time_step)+\"days\"+\".png\",dpi=3000)"
      ],
      "execution_count": null,
      "outputs": []
    },
    {
      "cell_type": "code",
      "metadata": {
        "id": "NGA53cvmvgJd"
      },
      "source": [
        "'''pred = reg.predict(x_test_close)\n",
        "pred_volume = ZeroOneDeScaler(pred[3],test_set_volume)\n",
        "df.loc[training_length:len(df)-1, 'pred_volume'] = pred_volume\n",
        "df['pred_volume'][training_length:].plot(color=\"red\",label='預測成交量')\n",
        "df['Trade Volume'][training_length:].plot(color=\"green\",label='實際成交量')\n",
        "plt.legend(loc='best',prop=myfont)'''"
      ],
      "execution_count": null,
      "outputs": []
    },
    {
      "cell_type": "code",
      "metadata": {
        "id": "p17zKeRPwEkU"
      },
      "source": [
        "'''df['pred_volume'][2664:2709].plot(color=\"red\",label='預計成交量')\n",
        "df['Trade Volume'][2664:2709].plot(color=\"green\",label='實際成交量')\n",
        "plt.legend(loc='best',prop=myfont)'''"
      ],
      "execution_count": null,
      "outputs": []
    },
    {
      "cell_type": "code",
      "metadata": {
        "id": "jevR_qyydctn"
      },
      "source": [
        "\"\"\"%load_ext tensorboard\n",
        "%tensorboard --logdir logs\"\"\""
      ],
      "execution_count": null,
      "outputs": []
    },
    {
      "cell_type": "code",
      "metadata": {
        "id": "1Y7YYnmcaZNg"
      },
      "source": [
        "MetaData = test_set_close\n",
        "#MetaData = MetaData.reshape(len(MetaData),)"
      ],
      "execution_count": null,
      "outputs": []
    },
    {
      "cell_type": "code",
      "metadata": {
        "id": "E6FcQ_6ZZETR"
      },
      "source": [
        "PredData = ZeroOneDeScaler(pred[0],test_set_close)\n",
        "#PredData = PredData.reshape(len(PredData))"
      ],
      "execution_count": null,
      "outputs": []
    },
    {
      "cell_type": "code",
      "metadata": {
        "id": "kRPJUESmYneJ"
      },
      "source": [
        "metrics.mape(MetaData.reshape(len(MetaData)), PredData.reshape(len(PredData)))"
      ],
      "execution_count": null,
      "outputs": []
    },
    {
      "cell_type": "code",
      "metadata": {
        "id": "sqw9zpOyTAFH"
      },
      "source": [
        "metrics.mae(MetaData.reshape(len(MetaData)), PredData.reshape(len(PredData)))"
      ],
      "execution_count": null,
      "outputs": []
    },
    {
      "cell_type": "code",
      "metadata": {
        "id": "Dka-RLHwWy9o"
      },
      "source": [
        "metrics.mse(MetaData.reshape(len(MetaData)), PredData.reshape(len(PredData)))"
      ],
      "execution_count": null,
      "outputs": []
    },
    {
      "cell_type": "code",
      "metadata": {
        "id": "mdS3JXx_TAHz",
        "colab": {
          "base_uri": "https://localhost:8080/"
        },
        "outputId": "42a6e8e1-3354-4f32-840a-72d303285f99"
      },
      "source": [
        "math.sqrt(metrics.mse(MetaData.reshape(len(MetaData)), PredData.reshape(len(PredData))))"
      ],
      "execution_count": null,
      "outputs": [
        {
          "data": {
            "text/plain": [
              "1.1062978594066437"
            ]
          },
          "execution_count": null,
          "metadata": {},
          "output_type": "execute_result"
        },
        {
          "output_type": "execute_result",
          "data": {
            "text/plain": [
              "1.1062978594066437"
            ]
          },
          "metadata": {},
          "execution_count": 51
        }
      ]
    }
  ]
}